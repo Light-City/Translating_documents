{
 "cells": [
  {
   "cell_type": "markdown",
   "metadata": {},
   "source": [
    "## 议程"
   ]
  },
  {
   "cell_type": "markdown",
   "metadata": {},
   "source": [
    "- Review\n",
    "- Linear regression on birth/life data\n",
    "- Control Flow\n",
    "- tf.data\n",
    "- Optimizers, gradients\n",
    "- Logistic regression on MNIST\n",
    "- Loss functions"
   ]
  },
  {
   "cell_type": "markdown",
   "metadata": {},
   "source": [
    "## 回顾"
   ]
  },
  {
   "cell_type": "markdown",
   "metadata": {},
   "source": [
    "### 计算图"
   ]
  },
  {
   "cell_type": "markdown",
   "metadata": {},
   "source": [
    "TensorFlow将计算的定义与其执行分开\n",
    "\n",
    "阶段1：组装图表\n",
    "\n",
    "阶段2：使用会话在图中执行操作。"
   ]
  },
  {
   "cell_type": "markdown",
   "metadata": {},
   "source": [
    "### TensorBoard"
   ]
  },
  {
   "cell_type": "code",
   "execution_count": 64,
   "metadata": {},
   "outputs": [],
   "source": [
    "import tensorflow as tf\n",
    "x = 2\n",
    "y = 3\n",
    "add_op = tf.add(x, y)\n",
    "mul_op = tf.multiply(x, y)\n",
    "useless = tf.multiply(x, add_op)\n",
    "pow_op = tf.pow(add_op, mul_op)\n",
    "writer=tf.summary.FileWriter('./graphs',tf.get_default_graph())\n",
    "with tf.Session() as sess:\n",
    "    z = sess.run(pow_op)\n"
   ]
  },
  {
   "cell_type": "markdown",
   "metadata": {},
   "source": [
    "### tf.constant and tf.Variable"
   ]
  },
  {
   "cell_type": "markdown",
   "metadata": {},
   "source": [
    "常量值存储在图形定义中\n",
    "\n",
    "会话分配内存来存储变量值"
   ]
  },
  {
   "cell_type": "markdown",
   "metadata": {},
   "source": [
    "### tf.placeholder and feed_dict"
   ]
  },
  {
   "cell_type": "markdown",
   "metadata": {},
   "source": [
    "使用字典（feed_dict）将值提供给占位符\n",
    "\n",
    "易于使用但性能不佳"
   ]
  },
  {
   "cell_type": "markdown",
   "metadata": {},
   "source": [
    "### 避免懒加载"
   ]
  },
  {
   "cell_type": "markdown",
   "metadata": {},
   "source": [
    "- 分离图形的组合和执行操作\n",
    "- 使用Python属性确保函数仅在第一次调用时加载"
   ]
  },
  {
   "cell_type": "markdown",
   "metadata": {},
   "source": [
    "## 在TensorFlow中的线性回归"
   ]
  },
  {
   "cell_type": "markdown",
   "metadata": {},
   "source": [
    "### 数据与模型概要"
   ]
  },
  {
   "cell_type": "markdown",
   "metadata": {},
   "source": [
    "建模之间的线性关系：\n",
    "- 因变量Y.\n",
    "- 解释变量X."
   ]
  },
  {
   "cell_type": "markdown",
   "metadata": {},
   "source": [
    "世界发展指标数据集\n",
    "- X: 出生率\n",
    "- Y: 预期寿命\n",
    "\n",
    "190 国家\n",
    "\n",
    "想要：找到X和Y之间的线性关系，从X预测Y.\n",
    "\n",
    "模型：参考: `Y_predicted = w * X + b`\n",
    "\n",
    "均方误差: `E[(y - y_predicted)2]`\n",
    "\n",
    "交互式代码: \n",
    "\n",
    "```python\n",
    "data/birth_life_2010.txt\n",
    "examples/03_linreg_starter.py\n",
    "\n",
    "```"
   ]
  },
  {
   "cell_type": "markdown",
   "metadata": {},
   "source": [
    "### 阶段1：组装我们的图表"
   ]
  },
  {
   "cell_type": "markdown",
   "metadata": {},
   "source": [
    "#### 第一步：读数据"
   ]
  },
  {
   "cell_type": "code",
   "execution_count": 65,
   "metadata": {},
   "outputs": [],
   "source": [
    "import os \n",
    "os.environ['TF_CPP_MIN_LOG_LEVEL']='2'\n",
    "import numpy as np\n",
    "%matplotlib inline\n",
    "import pandas as pd"
   ]
  },
  {
   "cell_type": "code",
   "execution_count": 66,
   "metadata": {},
   "outputs": [],
   "source": [
    "# 第一种方式读取(官方)\n",
    "def read_data(filename):\n",
    "    '''\n",
    "    读取birth_life_2010.txt 数据\n",
    "    data:返回numpy数组数据\n",
    "    n_samples:例子的数量\n",
    "    '''\n",
    "    # 去掉head\n",
    "    text = open(filename, 'r').readlines()[1:]\n",
    "    # 去掉每一行末尾的换行符\\n，并以制表符\\t进行分隔\n",
    "    data = [line[:-1].split('\\t') for line in text]\n",
    "    # 提取出生率\n",
    "    births = [float(line[1]) for line in data]\n",
    "    # 提取预期寿命\n",
    "    lifes = [float(line[2]) for line in data]\n",
    "    # 变成[(),()]数据\n",
    "    data = list(zip(births, lifes))\n",
    "    # 统计数据量\n",
    "    n_samples = len(data)\n",
    "    # 数据转换为numpy的ndarray类型\n",
    "    data = np.asarray(data, dtype=np.float32)\n",
    "    return data, n_samples"
   ]
  },
  {
   "cell_type": "code",
   "execution_count": 4,
   "metadata": {},
   "outputs": [],
   "source": [
    "data,n_samples=read_data('birth_life_2010.txt')"
   ]
  },
  {
   "cell_type": "code",
   "execution_count": 5,
   "metadata": {},
   "outputs": [
    {
     "data": {
      "text/plain": [
       "array([[ 1.822   , 74.82825 ],\n",
       "       [ 3.869   , 70.81949 ],\n",
       "       [ 3.911   , 72.15066 ],\n",
       "       [ 5.578   , 61.999855],\n",
       "       [ 1.579   , 73.92766 ],\n",
       "       [ 4.229   , 67.465195],\n",
       "       [ 1.15    , 81.641464],\n",
       "       [ 3.86    , 72.30639 ],\n",
       "       [ 3.142   , 68.484314],\n",
       "       [ 3.951   , 62.44061 ],\n",
       "       [ 2.16    , 80.70244 ],\n",
       "       [ 2.141   , 76.30168 ],\n",
       "       [ 2.002   , 64.662094],\n",
       "       [ 2.504   , 68.19498 ],\n",
       "       [ 3.451   , 68.76483 ],\n",
       "       [ 2.635   , 74.02456 ],\n",
       "       [ 1.092   , 80.775314],\n",
       "       [ 2.747   , 67.064   ],\n",
       "       [ 1.22    , 80.76195 ],\n",
       "       [ 1.39    , 82.932686],\n",
       "       [ 2.117   , 68.889656],\n",
       "       [ 1.108   , 82.87805 ],\n",
       "       [ 2.47    , 75.99427 ],\n",
       "       [ 2.09    , 75.07688 ],\n",
       "       [ 2.668   , 69.22583 ],\n",
       "       [ 2.022   , 68.53214 ],\n",
       "       [ 1.598   , 73.273094],\n",
       "       [ 2.581   , 62.53622 ],\n",
       "       [ 2.042   , 77.93202 ],\n",
       "       [ 1.92    , 81.69512 ],\n",
       "       [ 2.499   , 68.001   ],\n",
       "       [ 1.94    , 80.402435],\n",
       "       [ 1.445   , 70.27561 ],\n",
       "       [ 2.399   , 64.86351 ],\n",
       "       [ 2.088   , 73.696655],\n",
       "       [ 3.297   , 67.2599  ],\n",
       "       [ 1.5     , 82.24634 ],\n",
       "       [ 1.98    , 81.45122 ],\n",
       "       [ 1.39    , 81.62683 ],\n",
       "       [ 1.57    , 79.42195 ],\n",
       "       [ 1.4     , 75.1122  ],\n",
       "       [ 1.4     , 73.936584],\n",
       "       [ 1.54    , 68.80488 ],\n",
       "       [ 1.38    , 73.458534],\n",
       "       [ 1.32    , 79.02683 ],\n",
       "       [ 1.38    , 76.24634 ],\n",
       "       [ 1.95    , 80.99756 ],\n",
       "       [ 1.79    , 80.70244 ],\n",
       "       [ 1.656   , 74.3111  ],\n",
       "       [ 1.475   , 68.90371 ],\n",
       "       [ 1.422   , 74.61885 ],\n",
       "       [ 1.63    , 80.08781 ],\n",
       "       [ 1.55    , 73.268295],\n",
       "       [ 1.17    , 73.482925],\n",
       "       [ 2.898   , 69.36846 ],\n",
       "       [ 2.2893  , 69.88439 ],\n",
       "       [ 2.59    , 68.295364],\n",
       "       [ 1.4     , 81.73659 ],\n",
       "       [ 2.07    , 80.291954],\n",
       "       [ 2.2     , 81.45122 ],\n",
       "       [ 1.25    , 74.20731 ],\n",
       "       [ 1.44    , 80.3878  ],\n",
       "       [ 1.39    , 79.98781 ],\n",
       "       [ 1.555   , 73.32734 ],\n",
       "       [ 2.      , 81.36829 ],\n",
       "       [ 1.87    , 79.870735],\n",
       "       [ 1.63    , 75.42927 ],\n",
       "       [ 1.87    , 79.1     ],\n",
       "       [ 1.49    , 77.42439 ],\n",
       "       [ 1.476   , 79.380394],\n",
       "       [ 1.46    , 76.47561 ],\n",
       "       [ 1.46    , 79.832   ],\n",
       "       [ 1.49    , 73.51219 ],\n",
       "       [ 1.148   , 75.40044 ],\n",
       "       [ 1.84    , 79.936584],\n",
       "       [ 1.44    , 70.40488 ],\n",
       "       [ 2.3     , 70.506516],\n",
       "       [ 1.44    , 80.38293 ],\n",
       "       [ 1.736   , 73.78356 ],\n",
       "       [ 1.536   , 76.90095 ],\n",
       "       [ 1.8     , 79.18944 ],\n",
       "       [ 2.49    , 74.12732 ],\n",
       "       [ 1.9856  , 76.23683 ],\n",
       "       [ 1.639   , 69.755   ],\n",
       "       [ 1.896   , 75.22212 ],\n",
       "       [ 2.336   , 70.33532 ],\n",
       "       [ 2.064   , 72.11253 ],\n",
       "       [ 1.98    , 74.4399  ],\n",
       "       [ 1.797   , 78.91329 ],\n",
       "       [ 2.501   , 73.76498 ],\n",
       "       [ 2.954   , 72.277   ],\n",
       "       [ 2.484   , 75.97424 ],\n",
       "       [ 2.622   , 73.72922 ],\n",
       "       [ 2.32    , 76.68378 ],\n",
       "       [ 2.329   , 72.84712 ],\n",
       "       [ 3.139   , 72.82593 ],\n",
       "       [ 3.34    , 61.763   ],\n",
       "       [ 2.262   , 69.54915 ],\n",
       "       [ 3.983   , 70.82542 ],\n",
       "       [ 2.235   , 75.66044 ],\n",
       "       [ 2.25    , 71.73237 ],\n",
       "       [ 2.479   , 75.462296],\n",
       "       [ 2.58    , 73.20003 ],\n",
       "       [ 1.467   , 78.96415 ],\n",
       "       [ 1.848   , 79.19261 ],\n",
       "       [ 2.1     , 73.42968 ],\n",
       "       [ 1.862   , 78.885735],\n",
       "       [ 1.83    , 73.09953 ],\n",
       "       [ 3.348   , 66.26856 ],\n",
       "       [ 2.79    , 75.83995 ],\n",
       "       [ 1.551   , 76.57283 ],\n",
       "       [ 1.699   , 74.975174],\n",
       "       [ 2.211   , 75.63215 ],\n",
       "       [ 5.2     , 65.030464],\n",
       "       [ 4.453   , 72.643684],\n",
       "       [ 1.749   , 76.57361 ],\n",
       "       [ 2.04    , 74.6     ],\n",
       "       [ 2.934   , 75.70256 ],\n",
       "       [ 2.811   , 73.85042 ],\n",
       "       [ 2.271   , 78.09759 ],\n",
       "       [ 2.309   , 73.12461 ],\n",
       "       [ 2.279   , 71.86463 ],\n",
       "       [ 1.38    , 80.948784],\n",
       "       [ 2.564   , 74.75312 ],\n",
       "       [ 1.8     , 72.40875 ],\n",
       "       [ 2.295   , 74.60473 ],\n",
       "       [ 3.8     , 73.28966 ],\n",
       "       [ 3.03    , 81.504875],\n",
       "       [ 4.702   , 68.486046],\n",
       "       [ 1.67    , 72.751854],\n",
       "       [ 2.733   , 72.975266],\n",
       "       [ 3.75    , 57.52739 ],\n",
       "       [ 2.54    , 75.02383 ],\n",
       "       [ 2.264   , 72.85254 ],\n",
       "       [ 2.1     , 78.24146 ],\n",
       "       [ 1.677   , 80.797806],\n",
       "       [ 1.764   , 79.288536],\n",
       "       [ 2.313   , 74.72261 ],\n",
       "       [ 3.423   , 65.19885 ],\n",
       "       [ 2.727   , 68.39483 ],\n",
       "       [ 1.752   , 76.551414],\n",
       "       [ 2.625   , 65.13134 ],\n",
       "       [ 2.399   , 66.90885 ],\n",
       "       [ 2.245   , 68.6348  ],\n",
       "       [ 6.288   , 48.282196],\n",
       "       [ 3.29    , 49.860878],\n",
       "       [ 6.258   , 48.455486],\n",
       "       [ 6.149   , 53.614635],\n",
       "       [ 4.072   , 56.588707],\n",
       "       [ 4.896   , 58.160023],\n",
       "       [ 5.544   , 57.38749 ],\n",
       "       [ 3.364   , 48.342804],\n",
       "       [ 4.4     , 61.108242],\n",
       "       [ 2.458   , 52.08149 ],\n",
       "       [ 6.339   , 50.89554 ],\n",
       "       [ 4.982   , 47.402195],\n",
       "       [ 2.5     , 73.03415 ],\n",
       "       [ 4.819   , 58.954075],\n",
       "       [ 5.371   , 55.05712 ],\n",
       "       [ 5.525   , 51.410023],\n",
       "       [ 7.063   , 54.265633],\n",
       "       [ 3.217   , 62.0701  ],\n",
       "       [ 4.912   , 49.696926],\n",
       "       [ 1.47    , 72.967316],\n",
       "       [ 4.533   , 58.21695 ],\n",
       "       [ 6.294   , 50.95483 ],\n",
       "       [ 5.99    , 53.462635],\n",
       "       [ 4.651   , 66.46707 ],\n",
       "       [ 5.238   , 56.147587],\n",
       "       [ 3.199   , 47.365074],\n",
       "       [ 4.718   , 56.497074],\n",
       "       [ 5.063   , 47.700657],\n",
       "       [ 5.246   , 53.638584],\n",
       "       [ 4.17    , 63.83727 ],\n",
       "       [ 3.25    , 62.286682],\n",
       "       [ 4.193   , 58.7151  ],\n",
       "       [ 4.453   , 60.994194],\n",
       "       [ 5.185   , 50.840805],\n",
       "       [ 5.775   , 48.069584],\n",
       "       [ 4.544   , 56.960194],\n",
       "       [ 4.919   , 60.626266],\n",
       "       [ 5.981   , 49.194828],\n",
       "       [ 4.631   , 47.61846 ],\n",
       "       [ 2.405   , 73.77405 ],\n",
       "       [ 4.487   , 51.062756],\n",
       "       [ 4.338   , 49.87722 ],\n",
       "       [ 5.85    , 54.924194],\n",
       "       [ 2.75    , 53.109512],\n",
       "       [ 5.287   , 55.585587],\n",
       "       [ 5.443   , 50.65366 ]], dtype=float32)"
      ]
     },
     "execution_count": 5,
     "metadata": {},
     "output_type": "execute_result"
    }
   ],
   "source": [
    "data"
   ]
  },
  {
   "cell_type": "code",
   "execution_count": 6,
   "metadata": {},
   "outputs": [
    {
     "data": {
      "text/plain": [
       "190"
      ]
     },
     "execution_count": 6,
     "metadata": {},
     "output_type": "execute_result"
    }
   ],
   "source": [
    "n_samples"
   ]
  },
  {
   "cell_type": "code",
   "execution_count": 7,
   "metadata": {},
   "outputs": [],
   "source": [
    "# 第二种方式读取\n",
    "def read_data(file_name):\n",
    "    data = pd.read_table('birth_life_2010.txt')\n",
    "    births = data['Birth rate']\n",
    "    lifes = data['Life expectancy']\n",
    "    data = list(zip(births,lifes))\n",
    "    n_samples = len(data)\n",
    "    data = np.asarray(data, dtype=np.float32)\n",
    "    return data,n_samples"
   ]
  },
  {
   "cell_type": "code",
   "execution_count": 8,
   "metadata": {},
   "outputs": [],
   "source": [
    "data,n_samples=read_data('birth_life_2010.txt')"
   ]
  },
  {
   "cell_type": "code",
   "execution_count": 9,
   "metadata": {},
   "outputs": [
    {
     "data": {
      "text/plain": [
       "(array([[ 1.822   , 74.82825 ],\n",
       "        [ 3.869   , 70.81949 ],\n",
       "        [ 3.911   , 72.15066 ],\n",
       "        [ 5.578   , 61.999855],\n",
       "        [ 1.579   , 73.92766 ],\n",
       "        [ 4.229   , 67.465195],\n",
       "        [ 1.15    , 81.641464],\n",
       "        [ 3.86    , 72.30639 ],\n",
       "        [ 3.142   , 68.484314],\n",
       "        [ 3.951   , 62.44061 ],\n",
       "        [ 2.16    , 80.70244 ],\n",
       "        [ 2.141   , 76.30168 ],\n",
       "        [ 2.002   , 64.662094],\n",
       "        [ 2.504   , 68.19498 ],\n",
       "        [ 3.451   , 68.76483 ],\n",
       "        [ 2.635   , 74.02456 ],\n",
       "        [ 1.092   , 80.775314],\n",
       "        [ 2.747   , 67.064   ],\n",
       "        [ 1.22    , 80.76195 ],\n",
       "        [ 1.39    , 82.932686],\n",
       "        [ 2.117   , 68.889656],\n",
       "        [ 1.108   , 82.87805 ],\n",
       "        [ 2.47    , 75.99427 ],\n",
       "        [ 2.09    , 75.07688 ],\n",
       "        [ 2.668   , 69.22583 ],\n",
       "        [ 2.022   , 68.53214 ],\n",
       "        [ 1.598   , 73.273094],\n",
       "        [ 2.581   , 62.53622 ],\n",
       "        [ 2.042   , 77.93202 ],\n",
       "        [ 1.92    , 81.69512 ],\n",
       "        [ 2.499   , 68.001   ],\n",
       "        [ 1.94    , 80.402435],\n",
       "        [ 1.445   , 70.27561 ],\n",
       "        [ 2.399   , 64.86351 ],\n",
       "        [ 2.088   , 73.696655],\n",
       "        [ 3.297   , 67.2599  ],\n",
       "        [ 1.5     , 82.24634 ],\n",
       "        [ 1.98    , 81.45122 ],\n",
       "        [ 1.39    , 81.62683 ],\n",
       "        [ 1.57    , 79.42195 ],\n",
       "        [ 1.4     , 75.1122  ],\n",
       "        [ 1.4     , 73.936584],\n",
       "        [ 1.54    , 68.80488 ],\n",
       "        [ 1.38    , 73.458534],\n",
       "        [ 1.32    , 79.02683 ],\n",
       "        [ 1.38    , 76.24634 ],\n",
       "        [ 1.95    , 80.99756 ],\n",
       "        [ 1.79    , 80.70244 ],\n",
       "        [ 1.656   , 74.3111  ],\n",
       "        [ 1.475   , 68.90371 ],\n",
       "        [ 1.422   , 74.61885 ],\n",
       "        [ 1.63    , 80.08781 ],\n",
       "        [ 1.55    , 73.268295],\n",
       "        [ 1.17    , 73.482925],\n",
       "        [ 2.898   , 69.36846 ],\n",
       "        [ 2.2893  , 69.88439 ],\n",
       "        [ 2.59    , 68.295364],\n",
       "        [ 1.4     , 81.73659 ],\n",
       "        [ 2.07    , 80.291954],\n",
       "        [ 2.2     , 81.45122 ],\n",
       "        [ 1.25    , 74.20731 ],\n",
       "        [ 1.44    , 80.3878  ],\n",
       "        [ 1.39    , 79.98781 ],\n",
       "        [ 1.555   , 73.32734 ],\n",
       "        [ 2.      , 81.36829 ],\n",
       "        [ 1.87    , 79.870735],\n",
       "        [ 1.63    , 75.42927 ],\n",
       "        [ 1.87    , 79.1     ],\n",
       "        [ 1.49    , 77.42439 ],\n",
       "        [ 1.476   , 79.380394],\n",
       "        [ 1.46    , 76.47561 ],\n",
       "        [ 1.46    , 79.832   ],\n",
       "        [ 1.49    , 73.51219 ],\n",
       "        [ 1.148   , 75.40044 ],\n",
       "        [ 1.84    , 79.936584],\n",
       "        [ 1.44    , 70.40488 ],\n",
       "        [ 2.3     , 70.506516],\n",
       "        [ 1.44    , 80.38293 ],\n",
       "        [ 1.736   , 73.78356 ],\n",
       "        [ 1.536   , 76.90095 ],\n",
       "        [ 1.8     , 79.18944 ],\n",
       "        [ 2.49    , 74.12732 ],\n",
       "        [ 1.9856  , 76.23683 ],\n",
       "        [ 1.639   , 69.755   ],\n",
       "        [ 1.896   , 75.22212 ],\n",
       "        [ 2.336   , 70.33532 ],\n",
       "        [ 2.064   , 72.11253 ],\n",
       "        [ 1.98    , 74.4399  ],\n",
       "        [ 1.797   , 78.91329 ],\n",
       "        [ 2.501   , 73.76498 ],\n",
       "        [ 2.954   , 72.277   ],\n",
       "        [ 2.484   , 75.97424 ],\n",
       "        [ 2.622   , 73.72922 ],\n",
       "        [ 2.32    , 76.68378 ],\n",
       "        [ 2.329   , 72.84712 ],\n",
       "        [ 3.139   , 72.82593 ],\n",
       "        [ 3.34    , 61.763   ],\n",
       "        [ 2.262   , 69.54915 ],\n",
       "        [ 3.983   , 70.82542 ],\n",
       "        [ 2.235   , 75.66044 ],\n",
       "        [ 2.25    , 71.73237 ],\n",
       "        [ 2.479   , 75.462296],\n",
       "        [ 2.58    , 73.20003 ],\n",
       "        [ 1.467   , 78.96415 ],\n",
       "        [ 1.848   , 79.19261 ],\n",
       "        [ 2.1     , 73.42968 ],\n",
       "        [ 1.862   , 78.885735],\n",
       "        [ 1.83    , 73.09953 ],\n",
       "        [ 3.348   , 66.26856 ],\n",
       "        [ 2.79    , 75.83995 ],\n",
       "        [ 1.551   , 76.57283 ],\n",
       "        [ 1.699   , 74.975174],\n",
       "        [ 2.211   , 75.63215 ],\n",
       "        [ 5.2     , 65.030464],\n",
       "        [ 4.453   , 72.643684],\n",
       "        [ 1.749   , 76.57361 ],\n",
       "        [ 2.04    , 74.6     ],\n",
       "        [ 2.934   , 75.70256 ],\n",
       "        [ 2.811   , 73.85042 ],\n",
       "        [ 2.271   , 78.09759 ],\n",
       "        [ 2.309   , 73.12461 ],\n",
       "        [ 2.279   , 71.86463 ],\n",
       "        [ 1.38    , 80.948784],\n",
       "        [ 2.564   , 74.75312 ],\n",
       "        [ 1.8     , 72.40875 ],\n",
       "        [ 2.295   , 74.60473 ],\n",
       "        [ 3.8     , 73.28966 ],\n",
       "        [ 3.03    , 81.504875],\n",
       "        [ 4.702   , 68.486046],\n",
       "        [ 1.67    , 72.751854],\n",
       "        [ 2.733   , 72.975266],\n",
       "        [ 3.75    , 57.52739 ],\n",
       "        [ 2.54    , 75.02383 ],\n",
       "        [ 2.264   , 72.85254 ],\n",
       "        [ 2.1     , 78.24146 ],\n",
       "        [ 1.677   , 80.797806],\n",
       "        [ 1.764   , 79.288536],\n",
       "        [ 2.313   , 74.72261 ],\n",
       "        [ 3.423   , 65.19885 ],\n",
       "        [ 2.727   , 68.39483 ],\n",
       "        [ 1.752   , 76.551414],\n",
       "        [ 2.625   , 65.13134 ],\n",
       "        [ 2.399   , 66.90885 ],\n",
       "        [ 2.245   , 68.6348  ],\n",
       "        [ 6.288   , 48.282196],\n",
       "        [ 3.29    , 49.860878],\n",
       "        [ 6.258   , 48.455486],\n",
       "        [ 6.149   , 53.614635],\n",
       "        [ 4.072   , 56.588707],\n",
       "        [ 4.896   , 58.160023],\n",
       "        [ 5.544   , 57.38749 ],\n",
       "        [ 3.364   , 48.342804],\n",
       "        [ 4.4     , 61.108242],\n",
       "        [ 2.458   , 52.08149 ],\n",
       "        [ 6.339   , 50.89554 ],\n",
       "        [ 4.982   , 47.402195],\n",
       "        [ 2.5     , 73.03415 ],\n",
       "        [ 4.819   , 58.954075],\n",
       "        [ 5.371   , 55.05712 ],\n",
       "        [ 5.525   , 51.410023],\n",
       "        [ 7.063   , 54.265633],\n",
       "        [ 3.217   , 62.0701  ],\n",
       "        [ 4.912   , 49.696926],\n",
       "        [ 1.47    , 72.967316],\n",
       "        [ 4.533   , 58.21695 ],\n",
       "        [ 6.294   , 50.95483 ],\n",
       "        [ 5.99    , 53.462635],\n",
       "        [ 4.651   , 66.46707 ],\n",
       "        [ 5.238   , 56.147587],\n",
       "        [ 3.199   , 47.365074],\n",
       "        [ 4.718   , 56.497074],\n",
       "        [ 5.063   , 47.700657],\n",
       "        [ 5.246   , 53.638584],\n",
       "        [ 4.17    , 63.83727 ],\n",
       "        [ 3.25    , 62.286682],\n",
       "        [ 4.193   , 58.7151  ],\n",
       "        [ 4.453   , 60.994194],\n",
       "        [ 5.185   , 50.840805],\n",
       "        [ 5.775   , 48.069584],\n",
       "        [ 4.544   , 56.960194],\n",
       "        [ 4.919   , 60.626266],\n",
       "        [ 5.981   , 49.194828],\n",
       "        [ 4.631   , 47.61846 ],\n",
       "        [ 2.405   , 73.77405 ],\n",
       "        [ 4.487   , 51.062756],\n",
       "        [ 4.338   , 49.87722 ],\n",
       "        [ 5.85    , 54.924194],\n",
       "        [ 2.75    , 53.109512],\n",
       "        [ 5.287   , 55.585587],\n",
       "        [ 5.443   , 50.65366 ]], dtype=float32), 190)"
      ]
     },
     "execution_count": 9,
     "metadata": {},
     "output_type": "execute_result"
    }
   ],
   "source": [
    "data,n_samples"
   ]
  },
  {
   "cell_type": "markdown",
   "metadata": {},
   "source": [
    "#### 第2步：为输入和标签创建占位符"
   ]
  },
  {
   "cell_type": "code",
   "execution_count": 10,
   "metadata": {},
   "outputs": [],
   "source": [
    "# tf.placeholder(dtype, shape=None, name=None)\n",
    "X,Y=None,None\n",
    "X = tf.placeholder(dtype=tf.float32)\n",
    "Y = tf.placeholder(dtype=tf.float32)"
   ]
  },
  {
   "cell_type": "markdown",
   "metadata": {},
   "source": [
    "#### 第3步：创建权重和偏置"
   ]
  },
  {
   "cell_type": "code",
   "execution_count": 11,
   "metadata": {},
   "outputs": [],
   "source": [
    "# tf.get_variable(name,shape=None,dtype=None,initializer=None,)\n",
    "# w,b,X,Y都是标量，shape=()可设置为shape=[]\n",
    "w,b = None,None\n",
    "w = tf.get_variable(name='weght',shape=(),initializer=tf.zeros_initializer())\n",
    "b = tf.get_variable(name='bias',shape=(),initializer=tf.zeros_initializer())"
   ]
  },
  {
   "cell_type": "markdown",
   "metadata": {},
   "source": [
    "#### 第4步：预测"
   ]
  },
  {
   "cell_type": "code",
   "execution_count": 12,
   "metadata": {},
   "outputs": [],
   "source": [
    "Y_predicted = None\n",
    "Y_predicted = w * X + b"
   ]
  },
  {
   "cell_type": "markdown",
   "metadata": {},
   "source": [
    "#### 第5步：指定损失函数"
   ]
  },
  {
   "cell_type": "code",
   "execution_count": 13,
   "metadata": {},
   "outputs": [],
   "source": [
    "loss = None\n",
    "loss = tf.square(Y - Y_predicted, name='loss')"
   ]
  },
  {
   "cell_type": "markdown",
   "metadata": {},
   "source": [
    "#### 第6步：创建优化器"
   ]
  },
  {
   "cell_type": "code",
   "execution_count": 14,
   "metadata": {},
   "outputs": [],
   "source": [
    "opt = tf.train.GradientDescentOptimizer(learning_rate=0.001)\n",
    "optimizer = opt.minimize(loss)"
   ]
  },
  {
   "cell_type": "code",
   "execution_count": 15,
   "metadata": {},
   "outputs": [],
   "source": [
    "import time\n",
    "start = time.time()"
   ]
  },
  {
   "cell_type": "markdown",
   "metadata": {},
   "source": [
    "### 阶段2：训练我们的模型"
   ]
  },
  {
   "cell_type": "markdown",
   "metadata": {},
   "source": [
    "#### 第7步：初始化及TensorBoard"
   ]
  },
  {
   "cell_type": "code",
   "execution_count": 16,
   "metadata": {},
   "outputs": [],
   "source": [
    "with tf.Session() as sess:\n",
    "    # 初始化变量\n",
    "    sess.run(tf.global_variables_initializer())\n",
    "    # tensorboard\n",
    "    writer = tf.summary.FileWriter('./graphs/linear_reg',sess.graph)\n",
    "    ..."
   ]
  },
  {
   "cell_type": "markdown",
   "metadata": {},
   "source": [
    "#### 第8步：训练模型100个epochs"
   ]
  },
  {
   "cell_type": "code",
   "execution_count": 17,
   "metadata": {},
   "outputs": [
    {
     "name": "stdout",
     "output_type": "stream",
     "text": [
      "Epoch 0:1661.8637834631543\n",
      "Epoch 1:956.3224148609137\n",
      "Epoch 2:844.6737023980994\n",
      "Epoch 3:750.7312486011339\n",
      "Epoch 4:667.6598341012079\n",
      "Epoch 5:594.1417715627896\n",
      "Epoch 6:529.07878103068\n",
      "Epoch 7:471.5004191489204\n",
      "Epoch 8:420.5458626462441\n",
      "Epoch 9:375.45530721966765\n",
      "Epoch 10:335.5543025185697\n",
      "Epoch 11:300.24629857978107\n",
      "Epoch 12:269.00376475843336\n",
      "Epoch 13:241.35957466852116\n",
      "Epoch 14:216.90039135300015\n",
      "Epoch 15:195.25972298129324\n",
      "Epoch 16:176.1137693605349\n",
      "Epoch 17:159.17551693441837\n",
      "Epoch 18:144.1907111125557\n",
      "Epoch 19:130.93503488078713\n",
      "Epoch 20:119.20935661137888\n",
      "Epoch 21:108.8379309807855\n",
      "Epoch 22:99.66466760624593\n",
      "Epoch 23:91.55177013029001\n",
      "Epoch 24:84.37664046781751\n",
      "Epoch 25:78.03217824997724\n",
      "Epoch 26:72.42182927812989\n",
      "Epoch 27:67.46136239485718\n",
      "Epoch 28:63.07566952367442\n",
      "Epoch 29:59.19874146522856\n",
      "Epoch 30:55.77168446383194\n",
      "Epoch 31:52.74269822355127\n",
      "Epoch 32:50.065632780875376\n",
      "Epoch 33:47.70006421631674\n",
      "Epoch 34:45.61017902122909\n",
      "Epoch 35:43.76379750625255\n",
      "Epoch 36:42.13259221098116\n",
      "Epoch 37:40.69221939330516\n",
      "Epoch 38:39.420219863367905\n",
      "Epoch 39:38.297008645340895\n",
      "Epoch 40:37.305591759538146\n",
      "Epoch 41:36.43066341609841\n",
      "Epoch 42:35.658453942681234\n",
      "Epoch 43:34.97724816803575\n",
      "Epoch 44:34.37655378567349\n",
      "Epoch 45:33.84671358035044\n",
      "Epoch 46:33.379665882282545\n",
      "Epoch 47:32.96800991297258\n",
      "Epoch 48:32.60548541990942\n",
      "Epoch 49:32.28618434173986\n",
      "Epoch 50:32.004961317298495\n",
      "Epoch 51:31.757531331044525\n",
      "Epoch 52:31.53978877073019\n",
      "Epoch 53:31.348356819100445\n",
      "Epoch 54:31.180119247269193\n",
      "Epoch 55:31.03225782010038\n",
      "Epoch 56:30.902462910201574\n",
      "Epoch 57:30.78859985760776\n",
      "Epoch 58:30.688725355066556\n",
      "Epoch 59:30.60122861903357\n",
      "Epoch 60:30.524590178362192\n",
      "Epoch 61:30.457532704476954\n",
      "Epoch 62:30.398967422668726\n",
      "Epoch 63:30.34777825418737\n",
      "Epoch 64:30.303121465726413\n",
      "Epoch 65:30.26424930739051\n",
      "Epoch 66:30.230392129550456\n",
      "Epoch 67:30.200964921590334\n",
      "Epoch 68:30.175501555469697\n",
      "Epoch 69:30.153343991707324\n",
      "Epoch 70:30.134226098457216\n",
      "Epoch 71:30.117758308603477\n",
      "Epoch 72:30.103543774372174\n",
      "Epoch 73:30.09139442229674\n",
      "Epoch 74:30.0809388476427\n",
      "Epoch 75:30.07208499982095\n",
      "Epoch 76:30.06452690966084\n",
      "Epoch 77:30.058150938555205\n",
      "Epoch 78:30.05278219980139\n",
      "Epoch 79:30.04828310612785\n",
      "Epoch 80:30.04458791257593\n",
      "Epoch 81:30.041550708114855\n",
      "Epoch 82:30.039046437352113\n",
      "Epoch 83:30.03704103724602\n",
      "Epoch 84:30.03545715799831\n",
      "Epoch 85:30.034288759106282\n",
      "Epoch 86:30.03338805212261\n",
      "Epoch 87:30.032769865304076\n",
      "Epoch 88:30.032386838833535\n",
      "Epoch 89:30.032150670733166\n",
      "Epoch 90:30.032092865493677\n",
      "Epoch 91:30.032186730024037\n",
      "Epoch 92:30.03240725137661\n",
      "Epoch 93:30.032643962397827\n",
      "Epoch 94:30.033039376884087\n",
      "Epoch 95:30.033435566514413\n",
      "Epoch 96:30.033922631802085\n",
      "Epoch 97:30.03442924663878\n",
      "Epoch 98:30.0349335548615\n",
      "Epoch 99:30.03552558278714\n"
     ]
    }
   ],
   "source": [
    "with tf.Session() as sess:\n",
    "    # 初始化变量\n",
    "    sess.run(tf.global_variables_initializer())\n",
    "    # tensorboard\n",
    "    writer = tf.summary.FileWriter('./graphs/linear_reg',sess.graph)\n",
    "    # trian the model for 100 epoch\n",
    "    for i in range(100):\n",
    "        # 初始化每一次的loss\n",
    "        total_loss=0\n",
    "        # 每一次，一批批训练\n",
    "        for x,y in data:\n",
    "            # 需要运行优化函数optimizer与loss， Tensorflow 会自动更新weight 和bias 两个变量\n",
    "            _,loss_ = sess.run([optimizer,loss],feed_dict={X:x,Y:y})\n",
    "            total_loss += loss_\n",
    "        print('Epoch {0}:{1}'.format(i,total_loss/n_samples))\n",
    "    writer.close()"
   ]
  },
  {
   "cell_type": "markdown",
   "metadata": {},
   "source": [
    "#### 第9步：输出w和b的值"
   ]
  },
  {
   "cell_type": "code",
   "execution_count": 18,
   "metadata": {},
   "outputs": [
    {
     "name": "stdout",
     "output_type": "stream",
     "text": [
      "Epoch 0:1661.8637834631543\n",
      "Epoch 1:956.3224148609137\n",
      "Epoch 2:844.6737023980994\n",
      "Epoch 3:750.7312486011339\n",
      "Epoch 4:667.6598341012079\n",
      "Epoch 5:594.1417715627896\n",
      "Epoch 6:529.07878103068\n",
      "Epoch 7:471.5004191489204\n",
      "Epoch 8:420.5458626462441\n",
      "Epoch 9:375.45530721966765\n",
      "Epoch 10:335.5543025185697\n",
      "Epoch 11:300.24629857978107\n",
      "Epoch 12:269.00376475843336\n",
      "Epoch 13:241.35957466852116\n",
      "Epoch 14:216.90039135300015\n",
      "Epoch 15:195.25972298129324\n",
      "Epoch 16:176.1137693605349\n",
      "Epoch 17:159.17551693441837\n",
      "Epoch 18:144.1907111125557\n",
      "Epoch 19:130.93503488078713\n",
      "Epoch 20:119.20935661137888\n",
      "Epoch 21:108.8379309807855\n",
      "Epoch 22:99.66466760624593\n",
      "Epoch 23:91.55177013029001\n",
      "Epoch 24:84.37664046781751\n",
      "Epoch 25:78.03217824997724\n",
      "Epoch 26:72.42182927812989\n",
      "Epoch 27:67.46136239485718\n",
      "Epoch 28:63.07566952367442\n",
      "Epoch 29:59.19874146522856\n",
      "Epoch 30:55.77168446383194\n",
      "Epoch 31:52.74269822355127\n",
      "Epoch 32:50.065632780875376\n",
      "Epoch 33:47.70006421631674\n",
      "Epoch 34:45.61017902122909\n",
      "Epoch 35:43.76379750625255\n",
      "Epoch 36:42.13259221098116\n",
      "Epoch 37:40.69221939330516\n",
      "Epoch 38:39.420219863367905\n",
      "Epoch 39:38.297008645340895\n",
      "Epoch 40:37.305591759538146\n",
      "Epoch 41:36.43066341609841\n",
      "Epoch 42:35.658453942681234\n",
      "Epoch 43:34.97724816803575\n",
      "Epoch 44:34.37655378567349\n",
      "Epoch 45:33.84671358035044\n",
      "Epoch 46:33.379665882282545\n",
      "Epoch 47:32.96800991297258\n",
      "Epoch 48:32.60548541990942\n",
      "Epoch 49:32.28618434173986\n",
      "Epoch 50:32.004961317298495\n",
      "Epoch 51:31.757531331044525\n",
      "Epoch 52:31.53978877073019\n",
      "Epoch 53:31.348356819100445\n",
      "Epoch 54:31.180119247269193\n",
      "Epoch 55:31.03225782010038\n",
      "Epoch 56:30.902462910201574\n",
      "Epoch 57:30.78859985760776\n",
      "Epoch 58:30.688725355066556\n",
      "Epoch 59:30.60122861903357\n",
      "Epoch 60:30.524590178362192\n",
      "Epoch 61:30.457532704476954\n",
      "Epoch 62:30.398967422668726\n",
      "Epoch 63:30.34777825418737\n",
      "Epoch 64:30.303121465726413\n",
      "Epoch 65:30.26424930739051\n",
      "Epoch 66:30.230392129550456\n",
      "Epoch 67:30.200964921590334\n",
      "Epoch 68:30.175501555469697\n",
      "Epoch 69:30.153343991707324\n",
      "Epoch 70:30.134226098457216\n",
      "Epoch 71:30.117758308603477\n",
      "Epoch 72:30.103543774372174\n",
      "Epoch 73:30.09139442229674\n",
      "Epoch 74:30.0809388476427\n",
      "Epoch 75:30.07208499982095\n",
      "Epoch 76:30.06452690966084\n",
      "Epoch 77:30.058150938555205\n",
      "Epoch 78:30.05278219980139\n",
      "Epoch 79:30.04828310612785\n",
      "Epoch 80:30.04458791257593\n",
      "Epoch 81:30.041550708114855\n",
      "Epoch 82:30.039046437352113\n",
      "Epoch 83:30.03704103724602\n",
      "Epoch 84:30.03545715799831\n",
      "Epoch 85:30.034288759106282\n",
      "Epoch 86:30.03338805212261\n",
      "Epoch 87:30.032769865304076\n",
      "Epoch 88:30.032386838833535\n",
      "Epoch 89:30.032150670733166\n",
      "Epoch 90:30.032092865493677\n",
      "Epoch 91:30.032186730024037\n",
      "Epoch 92:30.03240725137661\n",
      "Epoch 93:30.032643962397827\n",
      "Epoch 94:30.033039376884087\n",
      "Epoch 95:30.033435566514413\n",
      "Epoch 96:30.033922631802085\n",
      "Epoch 97:30.03442924663878\n",
      "Epoch 98:30.0349335548615\n",
      "Epoch 99:30.03552558278714\n"
     ]
    }
   ],
   "source": [
    "with tf.Session() as sess:\n",
    "    # 初始化变量\n",
    "    sess.run(tf.global_variables_initializer())\n",
    "    # tensorboard\n",
    "    writer = tf.summary.FileWriter('./graphs/linear_reg',sess.graph)\n",
    "    # trian the model for 100 epoch\n",
    "    for i in range(100):\n",
    "        # 初始化每一次的loss\n",
    "        total_loss=0\n",
    "        # 每一次，一批批训练\n",
    "        for x,y in data:\n",
    "            # 需要运行优化函数optimizer与loss， Tensorflow 会自动更新weight 和bias 两个变量\n",
    "            _,loss_ = sess.run([optimizer,loss],feed_dict={X:x,Y:y})\n",
    "            total_loss += loss_\n",
    "        print('Epoch {0}:{1}'.format(i,total_loss/n_samples))\n",
    "    writer.close()\n",
    "    # 第9步：输出w和b的值\n",
    "    w_out,b_out = None,None\n",
    "    w_out, b_out = sess.run([w, b])"
   ]
  },
  {
   "cell_type": "markdown",
   "metadata": {},
   "source": [
    "#### 第10步：输出耗时"
   ]
  },
  {
   "cell_type": "code",
   "execution_count": 19,
   "metadata": {},
   "outputs": [
    {
     "name": "stdout",
     "output_type": "stream",
     "text": [
      "Took: 25.186522 seconds\n",
      "last value of loss, w, b: 30.03552558278714, -6.07021427154541, 84.92951202392578\n"
     ]
    }
   ],
   "source": [
    "print('Took: %f seconds' %(time.time() - start))\n",
    "print('last value of loss, w, b: {0}, {1}, {2}'.format(total_loss/n_samples, w_out, b_out))"
   ]
  },
  {
   "cell_type": "markdown",
   "metadata": {},
   "source": [
    "#### 第11步：可视化"
   ]
  },
  {
   "cell_type": "code",
   "execution_count": 20,
   "metadata": {
    "scrolled": true
   },
   "outputs": [
    {
     "data": {
      "text/plain": [
       "<matplotlib.legend.Legend at 0x7f1447e30518>"
      ]
     },
     "execution_count": 20,
     "metadata": {},
     "output_type": "execute_result"
    },
    {
     "data": {
      "image/png": "[encoded data removed]",
      "text/plain": [
       "<Figure size 432x288 with 1 Axes>"
      ]
     },
     "metadata": {},
     "output_type": "display_data"
    }
   ],
   "source": [
    "import matplotlib.pyplot as plt\n",
    "plt.plot(data[:,0], data[:,1], 'bo', label='Real data')\n",
    "plt.plot(data[:,0], data[:,0] * w_out + b_out, 'r', label='Predicted data')\n",
    "plt.legend()"
   ]
  },
  {
   "cell_type": "markdown",
   "metadata": {},
   "source": [
    "## Huber loss"
   ]
  },
  {
   "cell_type": "markdown",
   "metadata": {},
   "source": [
    "Huber loss是为了增强平方误差损失函数（squared loss function）对噪声（或叫离群点，outliers）的鲁棒性提出的。\n",
    "\n",
    "对异常值的鲁棒性，如果预测值和实际值之间的差异很小，则将其平方;如果它很大，取其绝对值。\n",
    "\n",
    "定义：\n",
    "\n",
    "\\begin{split}\n",
    "L_\\delta(a)=\\left \\{\n",
    "\\begin{array}{ll}\n",
    "\\frac12a^2,&\\textrm{for } |a|\\leq\\delta,\\\\\n",
    "\\delta\\cdot(|a|-\\frac12\\delta),&\\textrm{otherwise.}\n",
    "\\end{array}\n",
    "\\right.\n",
    "\\end{split}\n",
    "\n",
    "参数a通常表示residuals，也即(y−y^)或者写作(y−f(x))，当a=y−f(x)时，上述形式可以拓展为： \n",
    "\n",
    "\\begin{split}\n",
    "L_\\delta(y, f(x))=\\left\\{\n",
    "\\begin{array}{ll}\n",
    "\\frac12(y-f(x))^2,&\\textrm{for }|y-f(x)|\\leq\\delta\\\\\n",
    "\\delta\\cdot(|y-f(x)|-\\frac12\\delta),&\\textrm{otherwise.}\n",
    "\\end{array}\n",
    "\\right.\n",
    "\\end{split}"
   ]
  },
  {
   "cell_type": "markdown",
   "metadata": {},
   "source": [
    "### 控制流程"
   ]
  },
  {
   "cell_type": "markdown",
   "metadata": {},
   "source": [
    "在TensorFlow中，tf.cond()类似于c语言中的if...else...，用来控制数据流向，但是仅仅类似而已，其中差别还是挺大的。\n",
    "\n",
    "格式：`tf.cond(pred, fn1, fn2, name=None)`"
   ]
  },
  {
   "cell_type": "code",
   "execution_count": 23,
   "metadata": {},
   "outputs": [],
   "source": [
    "def huber_loss(label, prediction, delta=14.0):\n",
    "    residual = tf.abs(label - prediction)\n",
    "    def f1(): return 0.5*tf.square(residual)\n",
    "    def f2(): return delta*residual-0.5*tf.square(delta)\n",
    "    return tf.cond(residual < delta, f1,f2)\n",
    "# cond函数分为true和false两种情况。在许多情况下，使用函数tf.case。"
   ]
  },
  {
   "cell_type": "markdown",
   "metadata": {},
   "source": [
    "## tf.data"
   ]
  },
  {
   "cell_type": "markdown",
   "metadata": {},
   "source": [
    "在上面的代码我曾经使用过数据placeholder。但是占位符是一种古老的方式，关于这种方法有各种各样的意见。看来有利于的是，它是一个点，缺点在于它可以很容易地处理数据外的TF较慢处理应被视为一个单独的线程中的数据，和数据瓶颈。因此，这个问题得以解决tf.data。"
   ]
  },
  {
   "cell_type": "markdown",
   "metadata": {},
   "source": [
    "如何使用tf.data?\n",
    "\n",
    "```python\n",
    "tf.data.Dataset.from_tensor_slices((feature, labels))\n",
    "tf.data.Dataset.from_generator(gen, output_types, output_shapes)\n",
    "```\n",
    "\n",
    "\n",
    "`feature`和`labels`必须是Tensor数据类型。但是，由于张量数据类型与numpy数据类型相同，因此可以包含numpy数据类型。"
   ]
  },
  {
   "cell_type": "code",
   "execution_count": 27,
   "metadata": {},
   "outputs": [],
   "source": [
    "# 换句话说，如果您从上面的模型中读取数据为tf.data，您可以写：\n",
    "data,n_samples=read_data('birth_life_2010.txt')\n",
    "dataset = tf.data.Dataset.from_tensor_slices((data[:,0], data[:,1]))"
   ]
  },
  {
   "cell_type": "code",
   "execution_count": 33,
   "metadata": {},
   "outputs": [
    {
     "data": {
      "text/plain": [
       "<TensorSliceDataset shapes: ((), ()), types: (tf.float32, tf.float32)>"
      ]
     },
     "execution_count": 33,
     "metadata": {},
     "output_type": "execute_result"
    }
   ],
   "source": [
    "dataset"
   ]
  },
  {
   "cell_type": "code",
   "execution_count": 29,
   "metadata": {},
   "outputs": [
    {
     "name": "stdout",
     "output_type": "stream",
     "text": [
      "(tf.float32, tf.float32)\n",
      "(TensorShape([]), TensorShape([]))\n"
     ]
    }
   ],
   "source": [
    "print(dataset.output_types) # >> (tf.float32, tf.float32)\n",
    "print(dataset.output_shapes) # >> (TensorShape([]), TensorShape([]))"
   ]
  },
  {
   "cell_type": "markdown",
   "metadata": {},
   "source": [
    "tf.data.Dataset有几种方法，你可以直接读取数据文件Tensorflow文件格式分析器。"
   ]
  },
  {
   "cell_type": "markdown",
   "metadata": {},
   "source": [
    "`tf.data.TextLineDataset(filenames)` 将文件的每一行读作一个数据。它主要用于读取csv文件和机器翻译领域。\n",
    "\n",
    "`tf.data.FixedLengthRecordData(filenames)`它主要用于固定长度数据。数据作为一个数据被接收预定长度。经常使用的地方也经常用于由固定长度组成的数据中。例如，它用于读取诸如CIFAR数据或ImageNet数据之类的内容。\n",
    "\n",
    "`tf.data.TFRecordDataset(filenames)`用于tfrecord格式的数据。"
   ]
  },
  {
   "cell_type": "markdown",
   "metadata": {},
   "source": [
    "我看到了如何读取数据。现在让我们看一下使用数据。在现有代码中，我们for通过语句逐个使用数据的值。`tf.data.Iterator`使得逐个使用数据变得更加容易。"
   ]
  },
  {
   "cell_type": "markdown",
   "metadata": {},
   "source": [
    "### tf.data.Iterator"
   ]
  },
  {
   "cell_type": "markdown",
   "metadata": {},
   "source": [
    "`iterator = dataset.make_one_shot_iterator()`\n",
    "\n",
    "通过数据集只迭代一次。无需初始化。\n",
    "\n",
    "`iterator = dataset.make_initializable_iterator()`\n",
    "\n",
    "根据需要迭代数据集。需要初始化每个epoch。"
   ]
  },
  {
   "cell_type": "code",
   "execution_count": 37,
   "metadata": {},
   "outputs": [],
   "source": [
    "iterator = dataset.make_one_shot_iterator()\n",
    "X, Y = iterator.get_next()"
   ]
  },
  {
   "cell_type": "code",
   "execution_count": 40,
   "metadata": {},
   "outputs": [
    {
     "name": "stdout",
     "output_type": "stream",
     "text": [
      "[1.822, 74.82825]\n",
      "[3.869, 70.81949]\n",
      "[3.911, 72.15066]\n"
     ]
    }
   ],
   "source": [
    "with tf.Session() as sess:\n",
    "    print(sess.run([X, Y]))\t\t# >> [1.822, 74.82825]\n",
    "    print(sess.run([X, Y]))\t\t# >> [3.869, 70.81949]\n",
    "    print(sess.run([X, Y]))\t\t# >> [3.911, 72.15066]"
   ]
  },
  {
   "cell_type": "markdown",
   "metadata": {},
   "source": [
    "### 处理TensorFlow中的数据"
   ]
  },
  {
   "cell_type": "markdown",
   "metadata": {},
   "source": [
    "```python\n",
    "dataset = dataset.shuffle(1000)\n",
    "dataset = dataset.repeat(100)\n",
    "dataset = dataset.batch(128)\n",
    "dataset = dataset.map(lambda x: tf.one_hot(x, 10)) # convert each elem of dataset to one_hot vector\n",
    "```"
   ]
  },
  {
   "cell_type": "markdown",
   "metadata": {},
   "source": [
    "### 我们应该使用tf.data?"
   ]
  },
  {
   "cell_type": "markdown",
   "metadata": {},
   "source": [
    "对于原型设计，feed dict可以更快更容易编写（pythonic）\n",
    "\n",
    "当您有复杂的预处理或多个数据源时，tf.data很难使用\n",
    "\n",
    "NLP数据通常只是一个整数序列。在这种情况下，将数据传输到GPU非常快，因此tf.data的加速并不是那么大"
   ]
  },
  {
   "cell_type": "markdown",
   "metadata": {},
   "source": [
    "## 优化"
   ]
  },
  {
   "cell_type": "markdown",
   "metadata": {},
   "source": [
    "使用优化器非常简单。然而只有几行代码可以方便地使用（差分，更新）复杂的配置的优化器。\n",
    "\n",
    "```python\n",
    "optimizer = tf.train.GradientDescentOptimizer(learning_rate=0.01).minimize(loss)\n",
    "_, l = sess.run([optimizer, loss], feed_dict={X: x, Y:y})\n",
    "```\n",
    "会话查看损失所依赖的所有可训练变量并更新它们"
   ]
  },
  {
   "cell_type": "markdown",
   "metadata": {},
   "source": [
    "`tf.Variable(initial_value=None, trainable=True,...)`\n",
    "\n",
    "优化程序会自动计算和更新衍生值。因此，它适用于所有相关变量。在某些情况下，可能存在不应更新的变量。在这种变量的情况下，`trainable=False`通过仅将其指定为选项，可以很容易地将其设置为不训练"
   ]
  },
  {
   "cell_type": "markdown",
   "metadata": {},
   "source": [
    "除了上面使用的GD opmizer之外，还提供了各种其他优化器作为张量流函数。以下是优化器列表。"
   ]
  },
  {
   "cell_type": "markdown",
   "metadata": {},
   "source": [
    "- tf.train.Optimizer\n",
    "- tf.train.GradientDescentOptimizer\n",
    "- tf.train.AdadeltaOptimizer\n",
    "- tf.train.AdagradOptimizer\n",
    "- tf.train.AdagradDAOptimizer\n",
    "- tf.train.MomentumOptimizer\n",
    "- tf.train.AdamOptimizer\n",
    "- tf.train.FtrlOptimizer\n",
    "- tf.train.ProximalGradientDescentOptimizer\n",
    "- tf.train.ProximalAdagradOptimizer\n",
    "- tf.train.RMSPropOptimizer"
   ]
  }
 ],
 "metadata": {
  "kernelspec": {
   "display_name": "Python 3",
   "language": "python",
   "name": "python3"
  }
 },
 "nbformat": 4,
 "nbformat_minor": 2
}
