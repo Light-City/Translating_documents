{
 "cells": [
  {
   "cell_type": "markdown",
   "metadata": {},
   "source": [
    "## Tensorflow中的Logistic回归"
   ]
  },
  {
   "cell_type": "markdown",
   "metadata": {},
   "source": [
    "数据集：MNIST Database\n",
    "\n",
    "每个图像都是一个28x28阵列，被展平为1-d张量，大小为784\n",
    "\n",
    "X: 手写数字图像\n",
    "Y: 数字值\n",
    "\n",
    "任务：识别图中的数字\n",
    "\n",
    "模型：Y_predicted = softmax(X * w + b)\n",
    "\n",
    "损失函数(交叉熵损失): -log(Y_predicted)"
   ]
  },
  {
   "cell_type": "markdown",
   "metadata": {},
   "source": [
    "1.处理数据"
   ]
  },
  {
   "cell_type": "code",
   "execution_count": 1,
   "metadata": {},
   "outputs": [
    {
     "name": "stdout",
     "output_type": "stream",
     "text": [
      "data/mnist/train-images-idx3-ubyte.gz already exists\n",
      "data/mnist/train-labels-idx1-ubyte.gz already exists\n",
      "data/mnist/t10k-images-idx3-ubyte.gz already exists\n",
      "data/mnist/t10k-labels-idx1-ubyte.gz already exists\n"
     ]
    }
   ],
   "source": [
    "import utils\n",
    "import tensorflow as tf\n",
    "import time\n",
    "learning_rate = 0.01\n",
    "batch_size = 128\n",
    "n_epochs = 30\n",
    "n_train = 60000\n",
    "n_test = 10000\n",
    "\n",
    "mnist_folder = 'data/mnist'\n",
    "utils.download_mnist(mnist_folder) \n",
    "train, val, test = utils.read_mnist(mnist_folder, flatten=True)\n",
    "\n",
    "train_data = tf.data.Dataset.from_tensor_slices(train)\n",
    "train_data = train_data.shuffle(10000) #\n",
    "train_data = train_data.batch(batch_size)\n",
    "\n",
    "test_data = tf.data.Dataset.from_tensor_slices(test)\n",
    "test_data = test_data.batch(batch_size)"
   ]
  },
  {
   "cell_type": "markdown",
   "metadata": {},
   "source": [
    "2.创建一个迭代器并确定如何初始化它。"
   ]
  },
  {
   "cell_type": "code",
   "execution_count": 2,
   "metadata": {},
   "outputs": [],
   "source": [
    "iterator = tf.data.Iterator.from_structure(train_data.output_types,train_data.output_shapes)\n",
    "img,label = iterator.get_next()\n",
    "train_init = iterator.make_initializer(train_data)\n",
    "test_init = iterator.make_initializer(test_data)"
   ]
  },
  {
   "cell_type": "markdown",
   "metadata": {},
   "source": [
    "3.并生成模型的参数w和b。设置形状以适合img大小。然后，w被初始化为具有均值0和标准差方差0.01的正态分布，并且b被初始化为0。"
   ]
  },
  {
   "cell_type": "code",
   "execution_count": 3,
   "metadata": {},
   "outputs": [],
   "source": [
    "w = tf.get_variable(name='weight', shape=(784,10), initializer=tf.random_normal_initializer(0,0.01))\n",
    "b = tf.get_variable(name='bias', shape=(1,10), initializer=tf.zeros_initializer())"
   ]
  },
  {
   "cell_type": "markdown",
   "metadata": {},
   "source": [
    "4.定义logit和softmax函数并定义损失函数。"
   ]
  },
  {
   "cell_type": "code",
   "execution_count": 4,
   "metadata": {},
   "outputs": [],
   "source": [
    "logits = tf.matmul(img,w) + b\n",
    "\n",
    "entropy = tf.nn.softmax_cross_entropy_with_logits_v2(logits=logits, labels=label, name='entropy')\n",
    "loss = tf.reduce_mean(entropy, name = 'loss')"
   ]
  },
  {
   "cell_type": "markdown",
   "metadata": {},
   "source": [
    "5.优化器使用Adam优化器。"
   ]
  },
  {
   "cell_type": "code",
   "execution_count": 5,
   "metadata": {},
   "outputs": [],
   "source": [
    "optimizer = tf.train.AdamOptimizer(learning_rate).minimize(loss)"
   ]
  },
  {
   "cell_type": "markdown",
   "metadata": {},
   "source": [
    "6.定义预测操作，确认预测是否正确，以及精度计算操作。"
   ]
  },
  {
   "cell_type": "code",
   "execution_count": 6,
   "metadata": {},
   "outputs": [],
   "source": [
    "preds = tf.nn.softmax(logits)\n",
    "correct_preds = tf.equal(tf.argmax(preds, 1), tf.argmax(label, 1))\n",
    "accuracy = tf.reduce_sum(tf.cast(correct_preds, tf.float32))"
   ]
  },
  {
   "cell_type": "markdown",
   "metadata": {},
   "source": [
    "7.现在让我们可视化及定义session内容。"
   ]
  },
  {
   "cell_type": "code",
   "execution_count": 7,
   "metadata": {},
   "outputs": [
    {
     "name": "stdout",
     "output_type": "stream",
     "text": [
      "Average loss epoch 0: 0.3655088067747826\n",
      "Average loss epoch 1: 0.2940110842155856\n",
      "Average loss epoch 2: 0.286005012431117\n",
      "Average loss epoch 3: 0.27987676671771117\n",
      "Average loss epoch 4: 0.27525817329107327\n",
      "Average loss epoch 5: 0.27111212872835094\n",
      "Average loss epoch 6: 0.26818984052123024\n",
      "Average loss epoch 7: 0.26815499448499014\n",
      "Average loss epoch 8: 0.266046321981175\n",
      "Average loss epoch 9: 0.26476025451407875\n",
      "Average loss epoch 10: 0.2631033247293428\n",
      "Average loss epoch 11: 0.2619289387623931\n",
      "Average loss epoch 12: 0.26319200791591824\n",
      "Average loss epoch 13: 0.25912395159518997\n",
      "Average loss epoch 14: 0.2600291490208271\n",
      "Average loss epoch 15: 0.26063522691296975\n",
      "Average loss epoch 16: 0.25603776347152024\n",
      "Average loss epoch 17: 0.2581001413596231\n",
      "Average loss epoch 18: 0.25983193417967754\n",
      "Average loss epoch 19: 0.2560788070912971\n",
      "Average loss epoch 20: 0.2563442733918512\n",
      "Average loss epoch 21: 0.25523489374060965\n",
      "Average loss epoch 22: 0.2543823371619679\n",
      "Average loss epoch 23: 0.2552807717302511\n",
      "Average loss epoch 24: 0.25197396210806317\n",
      "Average loss epoch 25: 0.25343278578894085\n",
      "Average loss epoch 26: 0.2532950281577055\n",
      "Average loss epoch 27: 0.252884926854871\n",
      "Average loss epoch 28: 0.2527944806876571\n",
      "Average loss epoch 29: 0.25185961714664173\n",
      "Total time: 23.884480476379395 seconds\n",
      "Accuracy 0.917\n"
     ]
    }
   ],
   "source": [
    "writer = tf.summary.FileWriter('./graphs/logreg', tf.get_default_graph())\n",
    "\n",
    "gpu_options = tf.GPUOptions(per_process_gpu_memory_fraction=0.333)\n",
    "if 'session' in locals() and session is not None:\n",
    "    print('Close interactive session')\n",
    "    session.close()\n",
    "with tf.Session(config=tf.ConfigProto(gpu_options=gpu_options)) as sess:\n",
    "    start_time = time.time()\n",
    "    # 初始化变量\n",
    "    sess.run(tf.global_variables_initializer())\n",
    "    # 训练\n",
    "    for i in range(n_epochs):\n",
    "        sess.run(train_init) # drawing samples from train_data\n",
    "        total_loss = 0\n",
    "        n_batches = 0\n",
    "        try:\n",
    "            while True:\n",
    "                _, l = sess.run([optimizer, loss])\n",
    "                total_loss += l\n",
    "                n_batches += 1\n",
    "        except tf.errors.OutOfRangeError:\n",
    "            pass\n",
    "        print('Average loss epoch {0}: {1}'.format(i, total_loss/n_batches))\n",
    "    print('Total time: {0} seconds'.format(time.time() - start_time))\n",
    "\n",
    "    # test the model\n",
    "    sess.run(test_init) # drawing samples from test_data\n",
    "    total_correct_preds = 0\n",
    "    try:\n",
    "        while True:\n",
    "            accuracy_batch = sess.run(accuracy)\n",
    "            total_correct_preds += accuracy_batch\n",
    "    except tf.errors.OutOfRangeError:\n",
    "        pass\n",
    "\n",
    "    print('Accuracy {0}'.format(total_correct_preds/n_test))\n",
    "writer.close()"
   ]
  },
  {
   "cell_type": "code",
   "execution_count": null,
   "metadata": {},
   "outputs": [],
   "source": []
  },
  {
   "cell_type": "code",
   "execution_count": null,
   "metadata": {},
   "outputs": [],
   "source": []
  },
  {
   "cell_type": "code",
   "execution_count": null,
   "metadata": {},
   "outputs": [],
   "source": []
  }
 ],
 "metadata": {
  "kernelspec": {
   "display_name": "Python 3",
   "language": "python",
   "name": "python3"
  },
  "language_info": {
   "codemirror_mode": {
    "name": "ipython",
    "version": 3
   },
   "file_extension": ".py",
   "mimetype": "text/x-python",
   "name": "python",
   "nbconvert_exporter": "python",
   "pygments_lexer": "ipython3",
   "version": "3.6.4"
  }
 },
 "nbformat": 4,
 "nbformat_minor": 2
}
