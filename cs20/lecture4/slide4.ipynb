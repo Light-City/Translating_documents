{
 "cells": [
  {
   "cell_type": "markdown",
   "metadata": {},
   "source": [
    "## Eager execution "
   ]
  },
  {
   "cell_type": "markdown",
   "metadata": {},
   "source": [
    "\n",
    "“一个类似NumPy的数值计算库，支持GPU加速和自动区分，以及灵活的机器学习研究和实验平台。”"
   ]
  },
  {
   "cell_type": "markdown",
   "metadata": {},
   "source": [
    "开启Eager function模式，你不再需要担心：\n",
    "\n",
    "- 占位符\n",
    "- 会话\n",
    "- 控制依赖\n",
    "- “懒加载”\n",
    "- {name，variable，op}范围"
   ]
  },
  {
   "cell_type": "markdown",
   "metadata": {},
   "source": [
    "### 示例子1"
   ]
  },
  {
   "cell_type": "markdown",
   "metadata": {},
   "source": [
    "#### 未开启Eager"
   ]
  },
  {
   "cell_type": "code",
   "execution_count": null,
   "metadata": {},
   "outputs": [],
   "source": [
    "x = tf.placeholder(tf.float32, shape=[1, 1])\n",
    "m = tf.matmul(x, x)\n",
    "print(m)# Tensor(\"MatMul:0\", shape=(1, 1), dtype=float32)\n",
    "with tf.Session() as sess:\n",
    "    m_out = sess.run(m, feed_dict={x: [[2.]]})\n",
    "    print(m_out)# [[4.]]"
   ]
  },
  {
   "cell_type": "markdown",
   "metadata": {},
   "source": [
    "#### 开启Eager"
   ]
  },
  {
   "cell_type": "code",
   "execution_count": null,
   "metadata": {},
   "outputs": [],
   "source": [
    "x = [[2.]]  # No need for placeholders!\n",
    "m = tf.matmul(x, x)\n",
    "print(m)  # No sessions!\n",
    "# tf.Tensor([[4.]], shape=(1, 1), dtype=float32)"
   ]
  },
  {
   "cell_type": "markdown",
   "metadata": {},
   "source": [
    "启用Eager执行后，这3行提供相同的效果。没有会话，没有占位符和matmul操作立即提供值。"
   ]
  },
  {
   "cell_type": "markdown",
   "metadata": {},
   "source": [
    "### 示例2"
   ]
  },
  {
   "cell_type": "markdown",
   "metadata": {},
   "source": [
    "#### 未开启Eager"
   ]
  },
  {
   "cell_type": "code",
   "execution_count": null,
   "metadata": {},
   "outputs": [],
   "source": [
    "x = tf.random_uniform([2, 2])\n",
    "with tf.Session() as sess:\n",
    "    for i in range(x.shape[0]):\n",
    "        for j in range(x.shape[1]):\n",
    "            print(sess.run(x[i, j]))"
   ]
  },
  {
   "cell_type": "markdown",
   "metadata": {},
   "source": [
    "#### 开启Eager"
   ]
  },
  {
   "cell_type": "code",
   "execution_count": null,
   "metadata": {},
   "outputs": [],
   "source": [
    "x = tf.random_uniform([2, 2])\n",
    "for i in range(x.shape[0]):\n",
    "    for j in range(x.shape[1]):\n",
    "        print(x[i, j])"
   ]
  },
  {
   "cell_type": "markdown",
   "metadata": {},
   "source": [
    "\n",
    "急切的执行也有助于避免陷入元编程的绊脚石。\n",
    "\n",
    "例如，这里的代码是人们可能在他们的程序中快速破解以分析Tensor x的代码。\n",
    "它很容易被遗漏，但循环的每次迭代都会向图的内存中表示添加操作\n",
    "\n",
    "在这种特殊情况下，还有一个事实是每次调用session.run都在执行random_uniform操作，因此这里的代码片段不会打印张量的一致快照。\n",
    "\n",
    "\n",
    "在启用了急切执行的情况下，没有图形概念或操作的重复执行，因此最明显的处理方式非常有效。"
   ]
  },
  {
   "cell_type": "markdown",
   "metadata": {},
   "source": [
    "### 示例3"
   ]
  },
  {
   "cell_type": "markdown",
   "metadata": {},
   "source": [
    "#### Tensors Act Like NumPy Arrays"
   ]
  },
  {
   "cell_type": "code",
   "execution_count": null,
   "metadata": {},
   "outputs": [],
   "source": [
    "x = tf.constant([1.0, 2.0, 3.0])\n",
    "# Tensors are backed by NumPy arrays\n",
    "assert type(x.numpy()) == np.ndarray\n",
    "squared = np.square(x) # Tensors are compatible with NumPy functions\n",
    " \n",
    "# Tensors are iterable!\n",
    "for i in x:\n",
    "    print(i)\n",
    "\n",
    "for i in range(x.shape[0]):\n",
    "    for j in range(x.shape[1]):\n",
    "        print(x[i, j])\n"
   ]
  },
  {
   "cell_type": "markdown",
   "metadata": {},
   "source": [
    "## Gradients(梯度)"
   ]
  },
  {
   "cell_type": "markdown",
   "metadata": {},
   "source": [
    "开启Eager模式后，正向传播很直观很好理解，但应该怎么求梯度呢？\n",
    "\n",
    "在tfe中共有四个函数直接服务于反向传播，它们是：\n",
    "\n",
    "- tfe.gradients_function\n",
    "- tfe.value_and_gradients_function\n",
    "- tfe.implicit_gradients\n",
    "- tfe.implicit_value_and_gradients"
   ]
  },
  {
   "cell_type": "code",
   "execution_count": null,
   "metadata": {},
   "outputs": [],
   "source": [
    "上面四个函数类似于python的装饰器，例如：\n",
    "\n",
    "@tfe.gradients_function\n",
    "def f(x, y):\n",
    "    return x ** 2 + y ** 3\n",
    "f(1., 2.)"
   ]
  },
  {
   "cell_type": "code",
   "execution_count": null,
   "metadata": {},
   "outputs": [],
   "source": [
    "上面就是装饰器函数的一个典型语法，上面可以等价于：\n",
    "def f(x, y):\n",
    "    return x ** 2 + y ** 3\n",
    "g = tfe.gradients_function(f)\n",
    "g(1., 2.)"
   ]
  },
  {
   "cell_type": "markdown",
   "metadata": {},
   "source": [
    "求导后为：dx=2x,dy=3x^2,则g(1.,2.)=(2,12)\n",
    "\n",
    "`tfe.gradients_function`的输入是一个函数，输出是**输入函数相对于它所有参数的梯度函数**。"
   ]
  },
  {
   "cell_type": "markdown",
   "metadata": {},
   "source": [
    "`tfe.gradients_function`的功能是**对函数的输入参数求导**，\n",
    "\n",
    "但在实际使用中，我们希望对TensorFlow中的变量（Variable）求导，\n",
    "\n",
    "因为变量中保存的是模型的参数，这才是我们真正要优化、做梯度下降的部分。\n",
    "\n",
    "`tfe.implicit_gradients`的功能就是**生成可以对“计算过程中所有用到的变量”求导的函数**。"
   ]
  },
  {
   "cell_type": "code",
   "execution_count": null,
   "metadata": {},
   "outputs": [],
   "source": [
    "x = tfe.Variable(initial_value=1.0, name=\"x\")\n",
    "y = tfe.Variable(initial_value=1.0, name=\"y\")\n",
    "def f(t):\n",
    "    return 2 * x * t\n",
    "g = tfe.implicit_gradients(f)\n",
    "g(1.)"
   ]
  },
  {
   "cell_type": "markdown",
   "metadata": {},
   "source": [
    "上面定义两个变量x和y，只用了x这个变量，所以只会对vx求导！g的返回值是一个列表，列表中以(梯度，变量值)的形式存储了所有计算的梯度的值和变量的值。这里就应当是[(2, 1)]。"
   ]
  },
  {
   "cell_type": "markdown",
   "metadata": {},
   "source": [
    "如果需要同时获取f的值和f的梯度，就可以分别用`tfe.value_and_gradients_function`和`tfe.implicit_value_and_gradients`取代`tfe.gradients_function`、`tfe.implicit_gradient`。\n",
    "\n",
    "原先`tfe.gradients_function`返回的是梯度，`tfe.value_and_gradients_function`返回的就是(函数值，梯度)。\n",
    "\n",
    "原先`tfe.implicit_gradient`返回的是(梯度，变量值)，`tfe.implicit_value_and_gradients`返回的就是(函数值，梯度)。"
   ]
  },
  {
   "cell_type": "markdown",
   "metadata": {},
   "source": [
    "将求出的梯度应用到变量上：\n",
    "```python\n",
    "def loss_fn(...):\n",
    "    ....\n",
    "optimizer = tf.train.GradientDescentOptimizer(learning_rate=0.1)\n",
    "value_and_gradients_fn = tfe.implicit_value_and_gradients(loss_fn)\n",
    "empirical_loss, gradients_and_variables = value_and_gradients_fn(.....)\n",
    "optimizer.apply_gradients(gradients_and_variables)\n",
    "```\n",
    "参考自https://www.zhihu.com/question/67471378/answer/253549074"
   ]
  },
  {
   "cell_type": "markdown",
   "metadata": {},
   "source": [
    "### 缺点"
   ]
  },
  {
   "cell_type": "markdown",
   "metadata": {},
   "source": [
    "开启Eager模式后用tf.placeholder甚至会直接报错！不能用tf.Variable创建变量，而是要用tf.get_variable()或者tfe.Variable()来创建。"
   ]
  },
  {
   "cell_type": "markdown",
   "metadata": {},
   "source": [
    "### 什么时候使用Eager Function"
   ]
  },
  {
   "cell_type": "markdown",
   "metadata": {},
   "source": [
    "- 研究员，想要一个灵活的框架\n",
    "    - python控制流和数据结构实现了实验\n",
    "- 开发新模型\n",
    "    - 即时错误报告简化了调试\n",
    "- TensorFlow新手\n",
    "    - 热切的执行使您可以在Python REPL中探索TF API"
   ]
  },
  {
   "cell_type": "markdown",
   "metadata": {},
   "source": [
    "## Eager Execution"
   ]
  },
  {
   "cell_type": "markdown",
   "metadata": {},
   "source": [
    "\n",
    "“一个类似NumPy的数值计算库，支持GPU加速和自动区分，以及灵活的机器学习研究和实验平台。”"
   ]
  },
  {
   "cell_type": "code",
   "execution_count": 1,
   "metadata": {},
   "outputs": [],
   "source": [
    "import time \n",
    "import tensorflow as tf\n",
    "import tensorflow.contrib.eager as tfe\n",
    "import matplotlib.pyplot as plt\n",
    "\n",
    "import utils\n",
    "\n",
    "DATA_FILE = './birth_life_2010.txt'\n",
    "tfe.enable_eager_execution()"
   ]
  },
  {
   "cell_type": "code",
   "execution_count": 4,
   "metadata": {},
   "outputs": [],
   "source": [
    "data,n_samples = utils.read_birth_life_data(DATA_FILE)\n",
    "dataset = tf.data.Dataset.from_tensor_slices((data[:,0],data[:,1]))"
   ]
  },
  {
   "cell_type": "markdown",
   "metadata": {},
   "source": [
    "不能用tf.Variable创建变量，而是要用tf.get_variable()或者tfe.Variable()来创建"
   ]
  },
  {
   "cell_type": "code",
   "execution_count": 6,
   "metadata": {},
   "outputs": [],
   "source": [
    "# w = tf.Variable(0.0)\n",
    "# b = tf.Variable(0.0)\n",
    "'''\n",
    "tf.Variable not supported when eager execution is enabled. \n",
    "Please use tf.contrib.eager.Variable instead\n",
    "'''\n",
    "w = tfe.Variable(0.0)\n",
    "b = tfe.Variable(0.0)"
   ]
  },
  {
   "cell_type": "code",
   "execution_count": 13,
   "metadata": {},
   "outputs": [],
   "source": [
    "def prediction(x):\n",
    "    return x*w+b"
   ]
  },
  {
   "cell_type": "code",
   "execution_count": 14,
   "metadata": {},
   "outputs": [],
   "source": [
    "def squared_loss(y,y_predicted):\n",
    "    return (y-y_predicted)**2\n",
    "\n",
    "def huber_loss(y,y_predicted,m=1.0):\n",
    "    t = y-y_predicted\n",
    "    return 0.5*t**2 if tf.abs(t)<=m else m*(tf.abs(t)-0.5*m)"
   ]
  },
  {
   "cell_type": "code",
   "execution_count": 9,
   "metadata": {},
   "outputs": [],
   "source": [
    "# 原先的huber_loss\n",
    "def huber_loss1(label, prediction, delta=14.0):\n",
    "    residual = tf.abs(label - prediction)\n",
    "    def f1(): return 0.5*tf.square(residual)\n",
    "    def f2(): return delta*residual-0.5*tf.square(delta)\n",
    "    return tf.cond(residual < delta, f1,f2)\n",
    "# cond函数分为true和false两种情况。在许多情况下，使用函数tf.case。"
   ]
  },
  {
   "cell_type": "code",
   "execution_count": 15,
   "metadata": {},
   "outputs": [],
   "source": [
    "def train(loss_fn):\n",
    "    print('Training:loss function: ' + loss_fn.__name__)\n",
    "    optimizer = tf.train.GradientDescentOptimizer(learning_rate=0.01)\n",
    "    def loss_for_example(x,y):\n",
    "        return loss_fn(y,prediction(x))\n",
    "    \n",
    "    # 储存值与梯度\n",
    "    grad_fn = tfe.implicit_value_and_gradients(loss_for_example)\n",
    "    start = time.time()\n",
    "    for epoch in range(100):\n",
    "        total_loss=0.0\n",
    "        for x_i,y_i in tfe.Iterator(dataset):\n",
    "            loss,gradients = grad_fn(x_i,y_i)\n",
    "            optimizer.apply_gradients(gradients)\n",
    "            total_loss+=loss\n",
    "        if epoch%10==0:\n",
    "            print('Epoch {0}:{1}'.format(epoch,total_loss/n_samples))\n",
    "    print('Took:%f seconds'%(time.time()-start))\n",
    "    print('Eager execution exhibits significant overhead per operation. '\n",
    "        'As you increase your batch size, the impact of the overhead will '\n",
    "        'become less noticeable. Eager execution is under active development: '\n",
    "        'expect performance to increase substantially in the near future!')"
   ]
  },
  {
   "cell_type": "code",
   "execution_count": 16,
   "metadata": {},
   "outputs": [
    {
     "name": "stdout",
     "output_type": "stream",
     "text": [
      "Training:loss function: huber_loss\n",
      "Epoch 0:60.69637680053711\n",
      "Epoch 10:29.98884391784668\n",
      "Epoch 20:27.12620735168457\n",
      "Epoch 30:24.31956672668457\n",
      "Epoch 40:21.523069381713867\n",
      "Epoch 50:18.747325897216797\n",
      "Epoch 60:16.022245407104492\n",
      "Epoch 70:13.383048057556152\n",
      "Epoch 80:10.830995559692383\n",
      "Epoch 90:8.40764045715332\n",
      "Took:32.411659 seconds\n",
      "Eager execution exhibits significant overhead per operation. As you increase your batch size, the impact of the overhead will become less noticeable. Eager execution is under active development: expect performance to increase substantially in the near future!\n"
     ]
    }
   ],
   "source": [
    "train(huber_loss)"
   ]
  },
  {
   "cell_type": "markdown",
   "metadata": {},
   "source": [
    "张量的`.numpy（）`方法检索支持它的NumPy数组。在未来的eager版本中，你不需要调用`.numpy（）`而且会在大多数情况下，能够在NumPy数组所在的地方传递张量。"
   ]
  },
  {
   "cell_type": "code",
   "execution_count": 21,
   "metadata": {},
   "outputs": [
    {
     "data": {
      "text/plain": [
       "<matplotlib.legend.Legend at 0x7f7dbae1af60>"
      ]
     },
     "execution_count": 21,
     "metadata": {},
     "output_type": "execute_result"
    },
    {
     "data": {
      "image/png": "[encoded data removed]",
      "text/plain": [
       "<Figure size 432x288 with 1 Axes>"
      ]
     },
     "metadata": {},
     "output_type": "display_data"
    }
   ],
   "source": [
    "plt.plot(data[:,0], data[:,0] * w.numpy() + b.numpy(), 'r',\n",
    "         label=\"huber regression\")\n",
    "plt.legend()"
   ]
  }
 ],
 "metadata": {
  "kernelspec": {
   "display_name": "Python 3",
   "language": "python",
   "name": "python3"
  },
  "language_info": {
   "codemirror_mode": {
    "name": "ipython",
    "version": 3
   },
   "file_extension": ".py",
   "mimetype": "text/x-python",
   "name": "python",
   "nbconvert_exporter": "python",
   "pygments_lexer": "ipython3",
   "version": "3.6.4"
  }
 },
 "nbformat": 4,
 "nbformat_minor": 2
}
