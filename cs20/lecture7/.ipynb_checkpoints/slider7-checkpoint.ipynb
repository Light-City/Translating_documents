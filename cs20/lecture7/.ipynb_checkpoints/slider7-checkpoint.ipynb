{
 "cells": [
  {
   "cell_type": "markdown",
   "metadata": {},
   "source": [
    "## 风格迁移"
   ]
  },
  {
   "cell_type": "markdown",
   "metadata": {},
   "source": [
    "### 今日日程"
   ]
  },
  {
   "cell_type": "markdown",
   "metadata": {},
   "source": [
    "- TFRecord\n",
    "- Getting to know each other!\n",
    "- Style Transfer"
   ]
  },
  {
   "cell_type": "markdown",
   "metadata": {},
   "source": [
    "## TFRecord"
   ]
  },
  {
   "cell_type": "markdown",
   "metadata": {},
   "source": [
    "TFRecord是TensorFlow数据格式，以二进制格式存储。因此，有效地使用了磁盘缓存，并且使用速度快。因为它是二进制格式，所以它也可以处理其他类型的数据（图像和标签可以放在一起）。\n",
    "\n",
    "让我们看看如何将图像和标签保存为TFRecord文件。"
   ]
  },
  {
   "cell_type": "markdown",
   "metadata": {},
   "source": [
    "### 转换为TFRecord格式"
   ]
  },
  {
   "cell_type": "markdown",
   "metadata": {},
   "source": [
    "**第一步：**创建一个写入TFRecord文件的编写器"
   ]
  },
  {
   "cell_type": "code",
   "execution_count": null,
   "metadata": {},
   "outputs": [],
   "source": [
    "import tensorflow as tf\n",
    "writer = tf.python_io.TFRecordWriter(out_file)"
   ]
  },
  {
   "cell_type": "markdown",
   "metadata": {},
   "source": [
    "**第二步：**获得序列化的形状和图像的值"
   ]
  },
  {
   "cell_type": "code",
   "execution_count": null,
   "metadata": {},
   "outputs": [],
   "source": [
    "shape, binary_image = get_image_binary(image_file)"
   ]
  },
  {
   "cell_type": "markdown",
   "metadata": {},
   "source": [
    "**第三步：**创建一个`tf.train.Features`对象"
   ]
  },
  {
   "cell_type": "code",
   "execution_count": null,
   "metadata": {},
   "outputs": [],
   "source": [
    "features = tf.train.Features(feature={'label': _int64_feature(label),\n",
    "                                    'shape': _bytes_feature(shape),\n",
    "                                    'image': _bytes_feature(binary_image)})"
   ]
  },
  {
   "cell_type": "markdown",
   "metadata": {},
   "source": [
    "**第四步：**创建包含上面定义的功能的示例"
   ]
  },
  {
   "cell_type": "code",
   "execution_count": null,
   "metadata": {},
   "outputs": [],
   "source": [
    "sample = tf.train.Example(features=features)"
   ]
  },
  {
   "cell_type": "markdown",
   "metadata": {},
   "source": [
    "**第五步：**将示例写入tfrecord文件"
   ]
  },
  {
   "cell_type": "markdown",
   "metadata": {},
   "source": [
    "writer.write(sample.SerializeToString())"
   ]
  },
  {
   "cell_type": "markdown",
   "metadata": {},
   "source": [
    "**第六步：**关闭writer"
   ]
  },
  {
   "cell_type": "code",
   "execution_count": null,
   "metadata": {},
   "outputs": [],
   "source": [
    "writer.close()"
   ]
  },
  {
   "cell_type": "markdown",
   "metadata": {},
   "source": [
    "如何保存为TFRecord文件已结束。上述存储过程具有以不同格式存储int和byte值的优点。\n",
    "\n",
    "函数_int64_feature和_bytes_feature将上面使用的不同数据类型转换为一个字节字符串，定义如下。"
   ]
  },
  {
   "cell_type": "code",
   "execution_count": 7,
   "metadata": {},
   "outputs": [],
   "source": [
    "def _int64_feature(value):\n",
    "    return tf.train.Feature(int64_list=tf.train.Int64List(value=[value]))\n",
    "\n",
    "def _bytes_feature(value):\n",
    "    return tf.train.Feature(bytes_list=tf.train.BytesList(value=[value]))"
   ]
  },
  {
   "cell_type": "markdown",
   "metadata": {},
   "source": [
    "### 读TFRecord数据"
   ]
  },
  {
   "cell_type": "markdown",
   "metadata": {},
   "source": [
    "使用`TFRecordDataset`,现在让我们看看如何使用保存的TFRecord文件。它可以使用`tf.data`调用。"
   ]
  },
  {
   "cell_type": "code",
   "execution_count": null,
   "metadata": {},
   "outputs": [],
   "source": [
    "dataset = tf.data.TFRecordDataset(tfrecord_files)"
   ]
  },
  {
   "cell_type": "markdown",
   "metadata": {},
   "source": [
    "您可以按上述方式调用它。但是让我们考虑何时保存。我不得不将不同的数据格式存储为一个数据。\n",
    "\n",
    "因此，您必须在调用后划分另一种数据类型。因此，您可以使用`_parse_function_`，这是一个解析函数。"
   ]
  },
  {
   "cell_type": "code",
   "execution_count": 9,
   "metadata": {},
   "outputs": [],
   "source": [
    "def _parse_function(tfrecord_serialized):\n",
    "    features={'label': tf.FixedLenFeature([], tf.int64),\n",
    "              'shape': tf.FixedLenFeature([], tf.string),\n",
    "              'image': tf.FixedLenFeature([], tf.string)}"
   ]
  },
  {
   "cell_type": "markdown",
   "metadata": {},
   "source": [
    "然后，您可以将定义的函数应用于数据映射函数。"
   ]
  },
  {
   "cell_type": "code",
   "execution_count": null,
   "metadata": {},
   "outputs": [],
   "source": [
    "dataset = dataset.map(_parse_function)"
   ]
  },
  {
   "cell_type": "markdown",
   "metadata": {},
   "source": [
    "## 风格迁移"
   ]
  },
  {
   "cell_type": "markdown",
   "metadata": {},
   "source": [
    "风格转移是一种模型，其中使用两个图像将一个图像的样式应用于一个图像。"
   ]
  },
  {
   "cell_type": "markdown",
   "metadata": {},
   "source": [
    "下图是Deadpool图片："
   ]
  },
  {
   "cell_type": "code",
   "execution_count": null,
   "metadata": {},
   "outputs": [],
   "source": []
  },
  {
   "cell_type": "markdown",
   "metadata": {},
   "source": [
    "下图是Guernica图片："
   ]
  },
  {
   "cell_type": "code",
   "execution_count": null,
   "metadata": {},
   "outputs": [],
   "source": []
  },
  {
   "cell_type": "markdown",
   "metadata": {},
   "source": [
    "如果将这两个图像应用于风格迁移模型，则可以将毕加索的Guernica图片样式应用于Deadpool图片。也就是说，它看起来如下图所示："
   ]
  },
  {
   "cell_type": "code",
   "execution_count": null,
   "metadata": {},
   "outputs": [],
   "source": []
  },
  {
   "cell_type": "markdown",
   "metadata": {},
   "source": [
    "在该模型中定义了两个重要的损失。这里，内容图像是上述示例中的Deadpool图像，并且样式图像是毕加索的Guernica图像。"
   ]
  },
  {
   "cell_type": "markdown",
   "metadata": {},
   "source": [
    "- Content loss\n",
    "\n",
    "内容测量图像内容与生成图像内容之间的内容丢失\n",
    "\n",
    "$$\\mathcal{L}_{content}(\\vec{p}, \\vec{x}, l) = \\frac{1}{2}\\sum_{i,j}(F^l_{ij}-P^l_{ij})^2$$\n",
    "\n",
    "- Style loss\n",
    "\n",
    "图像风格与创建图像样式之间的样式丢失。\n",
    "\n",
    "$$\\begin{matrix}\n",
    "E_l=\\frac{1}{4N^2_lM^2_l}\\sum_{ij}(G^l_{ij}-A^l_{ij})^2\\\\\n",
    "\\mathcal{L}(\\vec{a}, \\vec{x})=\\sum^L_{l=0}w_lE_l\n",
    "\\end{matrix}$$\n",
    "\n",
    "此模型的优化器可将两个损失最小化。\n",
    "\n",
    "$$\\mathcal{L}_{total}(\\vec{p},\\vec{a},\\vec{x})=\\alpha\\mathcal{L}_{content}(\\vec{p},\\vec{x})+\\beta\\mathcal{L}_{style}(\\vec{a},\\vec{x})$$\n",
    "\n",
    "\n",
    "实现过程将描述如下。\n",
    "\n",
    "- 学习输入值而不是权重。\n",
    "- 使用相同的变量进行共享。\n",
    "- 我们使用了预先训练过的模型（VGG-19）。\n"
   ]
  }
 ],
 "metadata": {
  "kernelspec": {
   "display_name": "Python 3",
   "language": "python",
   "name": "python3"
  },
  "language_info": {
   "codemirror_mode": {
    "name": "ipython",
    "version": 3
   },
   "file_extension": ".py",
   "mimetype": "text/x-python",
   "name": "python",
   "nbconvert_exporter": "python",
   "pygments_lexer": "ipython3",
   "version": "3.6.4"
  }
 },
 "nbformat": 4,
 "nbformat_minor": 2
}
