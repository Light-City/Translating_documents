{
 "cells": [
  {
   "cell_type": "markdown",
   "metadata": {},
   "source": [
    "## 管理实验"
   ]
  },
  {
   "cell_type": "markdown",
   "metadata": {},
   "source": [
    "### 今日日程"
   ]
  },
  {
   "cell_type": "markdown",
   "metadata": {},
   "source": [
    "- word2vec\n",
    "- Embedding visualization\n",
    "- Structure your TensorFlow model\n",
    "- Variable sharing\n",
    "- Manage experiments\n",
    "- Autodiff"
   ]
  },
  {
   "cell_type": "markdown",
   "metadata": {},
   "source": [
    "在本天学习中，尝试基于更复杂的模型word2vec创建一个模型，将使用它来描述变量，模型共享和管理。"
   ]
  },
  {
   "cell_type": "markdown",
   "metadata": {},
   "source": [
    "最广为人知和广泛使用的文字处理技术是word2vec，但如果你对内容了解不多，那么下面是一些尝试："
   ]
  },
  {
   "cell_type": "markdown",
   "metadata": {},
   "source": [
    "### 单词嵌入在TensorFlow中"
   ]
  },
  {
   "cell_type": "markdown",
   "metadata": {},
   "source": [
    "#### 我们如何以有效的方式表达文字？"
   ]
  },
  {
   "cell_type": "markdown",
   "metadata": {},
   "source": [
    "#### One-hot Representation"
   ]
  },
  {
   "cell_type": "markdown",
   "metadata": {},
   "source": [
    "每个单词由一个向量表示，只有一个1，其余为0\n",
    "\n",
    "例如：\n",
    "Vocab: i, it, california, meh\n",
    "\n",
    "i  = [1 0 0 0]\n",
    "\n",
    "it = [0 1 0 0]\n",
    "\n",
    "california = [0 0 1 0]\n",
    "\n",
    "meh = [0 0 0 1]"
   ]
  },
  {
   "cell_type": "markdown",
   "metadata": {},
   "source": [
    "- 词汇量可能很大=>大尺寸，低效计算\n",
    "- 不能代表单词之间的关系=>“anxious”和“nervous”是相似的，但会有完全不同的表现形式"
   ]
  },
  {
   "cell_type": "markdown",
   "metadata": {},
   "source": [
    "#### 词嵌入"
   ]
  },
  {
   "cell_type": "markdown",
   "metadata": {},
   "source": [
    "- 分布式表示\n",
    "- 连续值\n",
    "- 低维度\n",
    "- 捕获单词之间的语义关系"
   ]
  },
  {
   "cell_type": "markdown",
   "metadata": {},
   "source": [
    "## Tensorflow中实现word2vec"
   ]
  },
  {
   "cell_type": "markdown",
   "metadata": {},
   "source": [
    "### 导包"
   ]
  },
  {
   "cell_type": "code",
   "execution_count": 1,
   "metadata": {},
   "outputs": [],
   "source": [
    "import os\n",
    "os.environ['TF_CPP_MIN_LOG_LEVEL']='2'\n",
    "\n",
    "import numpy as np\n",
    "from tensorflow.contrib.tensorboard.plugins import projector\n",
    "import tensorflow as tf\n",
    "\n",
    "import utils\n",
    "import word2vec_utils"
   ]
  },
  {
   "cell_type": "markdown",
   "metadata": {},
   "source": [
    "### 超参数"
   ]
  },
  {
   "cell_type": "code",
   "execution_count": 2,
   "metadata": {},
   "outputs": [],
   "source": [
    "VOCAB_SIZE = 50000\n",
    "BATCH_SIZE = 128\n",
    "EMBED_SIZE = 128            # dimension of the word embedding vectors\n",
    "SKIP_WINDOW = 1             # the context window\n",
    "NUM_SAMPLED = 64            # number of negative examples to sample\n",
    "LEARNING_RATE = 1.0\n",
    "NUM_TRAIN_STEPS = 100000\n",
    "VISUAL_FLD = 'visualization'\n",
    "SKIP_STEP = 5000\n",
    "\n",
    "DOWNLOAD_URL = 'http://mattmahoney.net/dc/text8.zip'\n",
    "EXPECTED_BYTES = 31344016\n",
    "NUM_VISUALIZE = 3000        # number of tokens to visualize"
   ]
  },
  {
   "cell_type": "code",
   "execution_count": 3,
   "metadata": {},
   "outputs": [],
   "source": [
    "def gen():\n",
    "    yield from word2vec_utils.batch_gen(DOWNLOAD_URL, EXPECTED_BYTES, VOCAB_SIZE, \n",
    "                                        BATCH_SIZE, SKIP_WINDOW, VISUAL_FLD)"
   ]
  },
  {
   "cell_type": "code",
   "execution_count": 4,
   "metadata": {},
   "outputs": [],
   "source": [
    "dataset = tf.data.Dataset.from_generator(gen, (tf.int32, tf.int32), (tf.TensorShape([BATCH_SIZE]), tf.TensorShape([BATCH_SIZE, 1])))\n",
    "iterator = dataset.make_initializable_iterator()\n",
    "center_words, target_words = iterator.get_next()"
   ]
  },
  {
   "cell_type": "markdown",
   "metadata": {},
   "source": [
    "skip-gram模型中的参数是矩阵形式，该矩阵的行向量是字嵌入向量。因此，矩阵的大小为[VOCAB_SIZE，EMBED_SIZE]。通常将相应的参数矩阵初始化为遵循随机分布，其中我们将其初始化以遵循均匀分布。"
   ]
  },
  {
   "cell_type": "code",
   "execution_count": 5,
   "metadata": {},
   "outputs": [],
   "source": [
    "embed_matrix = tf.get_variable('embed_matrix', shape=[VOCAB_SIZE, EMBED_SIZE],initializer=tf.random_uniform_initializer())"
   ]
  },
  {
   "cell_type": "markdown",
   "metadata": {},
   "source": [
    "在skip-gram模型中，单词最初是单热编码的并且乘以参数。最终，余数都被计算出来，即使它们都是零。 TensorFlow提供了一个函数`tf.nn.embedding_lookup`来解决这个问题。因此，只能通过该函数使用与批次的单词对应的行的向量值。"
   ]
  },
  {
   "cell_type": "markdown",
   "metadata": {},
   "source": [
    "函数原型\n",
    "```python\n",
    "tf.nn.embedding_lookup(\n",
    "    params,\n",
    "    ids,\n",
    "    partition_strategy='mod',\n",
    "    name=None,\n",
    "    validate_indices=True,\n",
    "    max_norm=None\n",
    ")\n",
    "```"
   ]
  },
  {
   "cell_type": "markdown",
   "metadata": {},
   "source": [
    "因此，使用上述函数后，如下："
   ]
  },
  {
   "cell_type": "code",
   "execution_count": 6,
   "metadata": {},
   "outputs": [],
   "source": [
    "embed = tf.nn.embedding_lookup(embed_matrix, center_words, name='embedding')"
   ]
  },
  {
   "cell_type": "markdown",
   "metadata": {},
   "source": [
    "现在我们需要定义损失函数。我们将使用NCE函数作为损失函数。我们已经在tf中使用了这个函数，所以让我们使用它。 NCE功能的结构如下。"
   ]
  },
  {
   "cell_type": "markdown",
   "metadata": {},
   "source": [
    "函数原型：\n",
    "```python\n",
    "tf.nn.nce_loss(\n",
    "    weights,\n",
    "    biases,\n",
    "    labels,\n",
    "    inputs,\n",
    "    num_sampled,\n",
    "    num_classes,\n",
    "    num_true=1,\n",
    "    sampled_values=None,\n",
    "    remove_accidental_hits=False,\n",
    "    partition_strategy='mod',\n",
    "    name='nce_loss'\n",
    ")\n",
    "```"
   ]
  },
  {
   "cell_type": "markdown",
   "metadata": {},
   "source": [
    "（上面函数中的第三个参数实际上是输入，第四个是标签）\n",
    "\n",
    "要使用NCE损失，我们分别定义nce_weight和nce_bias并定义损失函数。"
   ]
  },
  {
   "cell_type": "code",
   "execution_count": 7,
   "metadata": {},
   "outputs": [],
   "source": [
    "nce_weight = tf.get_variable('nce_weight', shape=[VOCAB_SIZE, EMBED_SIZE],\n",
    "initializer=tf.truncated_normal_initializer(stddev=1.0 / (EMBED_SIZE ** 0.5)))\n",
    "nce_bias = tf.get_variable('nce_bias', initializer=tf.zeros([VOCAB_SIZE]))\n",
    "\n",
    "# define loss function to be NCE loss function\n",
    "loss = tf.reduce_mean(tf.nn.nce_loss(weights=nce_weight, \n",
    "    biases=nce_bias, \n",
    "    labels=target_words, \n",
    "    inputs=embed, \n",
    "    num_sampled=NUM_SAMPLED, \n",
    "    num_classes=VOCAB_SIZE), name='loss')"
   ]
  },
  {
   "cell_type": "markdown",
   "metadata": {},
   "source": [
    "现在您只需要定义优化器。梯度下降优化器。"
   ]
  },
  {
   "cell_type": "code",
   "execution_count": 8,
   "metadata": {},
   "outputs": [],
   "source": [
    "optimizer = tf.train.GradientDescentOptimizer(LEARNING_RATE).minimize(loss)"
   ]
  },
  {
   "cell_type": "markdown",
   "metadata": {},
   "source": [
    "现在您可以运行定义的图形。让我们通过Session。"
   ]
  },
  {
   "cell_type": "code",
   "execution_count": 9,
   "metadata": {},
   "outputs": [
    {
     "name": "stdout",
     "output_type": "stream",
     "text": [
      "data/text8.zip already exists\n",
      "Average loss at step 4999:  65.5\n",
      "Average loss at step 9999:  18.2\n",
      "Average loss at step 14999:   9.5\n",
      "Average loss at step 19999:   6.7\n",
      "Average loss at step 24999:   5.7\n",
      "Average loss at step 29999:   5.2\n",
      "Average loss at step 34999:   5.0\n",
      "Average loss at step 39999:   4.8\n",
      "Average loss at step 44999:   4.8\n",
      "Average loss at step 49999:   4.8\n",
      "Average loss at step 54999:   4.7\n",
      "Average loss at step 59999:   4.7\n",
      "Average loss at step 64999:   4.6\n",
      "Average loss at step 69999:   4.7\n",
      "Average loss at step 74999:   4.6\n",
      "Average loss at step 79999:   4.6\n",
      "Average loss at step 84999:   4.7\n",
      "Average loss at step 89999:   4.7\n",
      "Average loss at step 94999:   4.6\n",
      "Average loss at step 99999:   4.6\n"
     ]
    }
   ],
   "source": [
    "utils.safe_mkdir('checkpoints')\n",
    "\n",
    "with tf.Session() as sess:\n",
    "        sess.run(iterator.initializer)\n",
    "        sess.run(tf.global_variables_initializer())\n",
    "\n",
    "        total_loss = 0.0 # we use this to calculate late average loss in the last SKIP_STEP steps\n",
    "        writer = tf.summary.FileWriter('graphs/word2vec_simple', sess.graph)\n",
    "\n",
    "        for index in range(NUM_TRAIN_STEPS):\n",
    "            try:\n",
    "                loss_batch, _ = sess.run([loss, optimizer])\n",
    "                total_loss += loss_batch\n",
    "                if (index + 1) % SKIP_STEP == 0:\n",
    "                    print('Average loss at step {}: {:5.1f}'.format(index, total_loss / SKIP_STEP))\n",
    "                    total_loss = 0.0\n",
    "            except tf.errors.OutOfRangeError:\n",
    "                sess.run(iterator.initializer)\n",
    "        writer.close()"
   ]
  },
  {
   "cell_type": "markdown",
   "metadata": {},
   "source": [
    "### 如何结构化TensorFlow模型"
   ]
  },
  {
   "cell_type": "markdown",
   "metadata": {},
   "source": [
    "#### 1.步骤"
   ]
  },
  {
   "cell_type": "markdown",
   "metadata": {},
   "source": [
    "- 阶段1：组装图表\n",
    "\n",
    "    - 加载数据（tf.data或占位符）\n",
    "    - 参数定义\n",
    "    - 推理模型定义\n",
    "    - 损失函数的定义\n",
    "    - 优化器定义\n",
    "\n",
    "- 阶段2：执行计算\n",
    "\n",
    "    - 初始化所有变量\n",
    "    - 数据迭代器，初始化feed\n",
    "    - 运行推理模型（计算每个输入的学习结果）\n",
    "    - cost计算\n",
    "    - 参数更新\n"
   ]
  },
  {
   "cell_type": "markdown",
   "metadata": {},
   "source": [
    "#### 2.封装"
   ]
  },
  {
   "cell_type": "markdown",
   "metadata": {},
   "source": [
    "定义函数进行封装，例如："
   ]
  },
  {
   "cell_type": "code",
   "execution_count": null,
   "metadata": {},
   "outputs": [],
   "source": [
    "def gen():\n",
    "    yield from word2vec_utils.batch_gen(DOWNLOAD_URL, EXPECTED_BYTES, VOCAB_SIZE,\n",
    "                                        BATCH_SIZE, SKIP_WINDOW, VISUAL_FLD)\n",
    "\n",
    "def main():\n",
    "    dataset = tf.data.Dataset.from_generator(gen,\n",
    "                                (tf.int32, tf.int32),\n",
    "                                (tf.TensorShape([BATCH_SIZE]), tf.TensorShape([BATCH_SIZE, 1])))\n",
    "    word2vec(dataset)"
   ]
  },
  {
   "cell_type": "markdown",
   "metadata": {},
   "source": [
    "#### 3.命名空间"
   ]
  },
  {
   "cell_type": "markdown",
   "metadata": {},
   "source": [
    "该图显示节点都是分散的。如果模型比word2vec稍微复杂一点，那么很难看到图形。那么如果你能将这些图表更好地组合在一起呢？使用tf.name_scope可以轻松进行分组。"
   ]
  },
  {
   "cell_type": "code",
   "execution_count": null,
   "metadata": {},
   "outputs": [],
   "source": [
    "tf.name_scope可以像这样使用\n",
    "with tf.name_scope(name_of_that_scope):\n",
    "    # declare op_1\n",
    "    # declare op_2\n",
    "    # ..."
   ]
  },
  {
   "cell_type": "code",
   "execution_count": null,
   "metadata": {},
   "outputs": [],
   "source": [
    "with tf.name_scope('data'):\n",
    "    iterator = dataset.make_initializable_iterator()\n",
    "    center_words, target_words = iterator.get_next()\n",
    "\n",
    "with tf.name_scope('embed'):\n",
    "    embed_matrix = tf.get_variable('embed_matrix',\n",
    "                                    shape=[VOCAB_SIZE, EMBED_SIZE],\n",
    "                                    initializer=tf.random_uniform_initializer())\n",
    "    embed = tf.nn.embedding_lookup(embed_matrix, center_words, name='embedding')"
   ]
  },
  {
   "cell_type": "markdown",
   "metadata": {},
   "source": [
    "#### 4.变量重复(variable_scope)"
   ]
  },
  {
   "cell_type": "markdown",
   "metadata": {},
   "source": [
    "使用TensorFlow时，我有时想知道何时使用`name_scope`和`variable_scope`。\n",
    "\n",
    "这一次，让我们来看看`variable_scope`。考虑具有两个隐藏层和两个输入的神经网络。\n",
    "\n",
    "然后我们将定义和使用神经网络，每次执行函数时，TensorFlow都会创建一组不同的变量。所以每次调用上面的two_hidden_layers（）时，都会执行`get_variable`来创建一个新变量。因此，出现以下错误消息(`ValueError: Variable h1_weights already exists, disallowed. Did you mean to set reuse=True or reuse=tf.AUTO_REUSE in VarScope?`)，因为它生成重复项。我们使用VarScope来防止这些变量的重复。"
   ]
  },
  {
   "cell_type": "markdown",
   "metadata": {},
   "source": [
    "我们使用variable_scope来防止这些变量的重复。"
   ]
  },
  {
   "cell_type": "code",
   "execution_count": null,
   "metadata": {},
   "outputs": [],
   "source": [
    "def fully_connected(x, output_dim, scope):\n",
    "    with tf.variable_scope(scope) as scope:\n",
    "        w = tf.get_variable(\"weights\", [x.shape[1], output_dim], initializer=tf.random_normal_initializer())\n",
    "        b = tf.get_variable(\"biases\", [output_dim], initializer=tf.constant_initializer(0.0))\n",
    "        return tf.matmul(x, w) + b\n",
    "\n",
    "def two_hidden_layers(x):\n",
    "    h1 = fully_connected(x, 50, 'h1')\n",
    "    h2 = fully_connected(h1, 10, 'h2')\n",
    "\n",
    "with tf.variable_scope('two_layers') as scope:\n",
    "    logits1 = two_hidden_layers(x1)\n",
    "    scope.reuse_variables()\n",
    "    logits2 = two_hidden_layers(x2)"
   ]
  },
  {
   "cell_type": "markdown",
   "metadata": {},
   "source": [
    "#### 5.图集合(Graph collections)"
   ]
  },
  {
   "cell_type": "markdown",
   "metadata": {},
   "source": [
    "在创建模型时，可能会出现将变量放在图形的不同部分的情况。使用`tf.get_collection`访问一组特定的变量。\n",
    "```python\n",
    "tf.get_collection(\n",
    "    key,\n",
    "    scope=None\n",
    ")\n",
    "```\n",
    "\n",
    "默认情况下，所有变量都在`tf.GraphKeys.GLOBAL_VARIABLES`中。要使用`'my_scope'`中的所有变量，您可以使用：\n",
    "```python\n",
    "tf.get_collection(tf.GraphKeys.GLOBAL_VARIABLES, scope='my_scope')\n",
    "```\n",
    "如果要将变量集中的变量设置为`trainable = True`，则可以使用`tf.GraphKeys.TRAINABLE_VARIABLES`集合。"
   ]
  },
  {
   "cell_type": "markdown",
   "metadata": {},
   "source": [
    "#### 6.word2vec"
   ]
  },
  {
   "cell_type": "markdown",
   "metadata": {},
   "source": [
    "\n",
    "我们将word2vec变成了一个较小的数据集，发现结果非常好。但实际上您需要更多数据集，因此需要花费大量时间。\n",
    "\n",
    "模型越复杂，学习所需的时间就越多。例如，在机器翻译领域，您必须至少学习一天，并且在某些情况下您必须学习更多知识。\n",
    "\n",
    "如果我们学习一个需要几天的模型，在模型完成学习之前我们不会知道结果。即使您中间有计算机问题，也无法检查结果。\n",
    "\n",
    "另一个问题是，当通过试验各种因素来试验模型时，很难对这些因素进行比较。\n",
    "\n",
    "**所以能够在任何时间点停止训练并能恢复运行十分关键。**让我们来看看我们在试验模型时可以使用的一些功能。让我们看看`tf.train.Saver()`，TensorFlow的随机状态和可视化。"
   ]
  },
  {
   "cell_type": "markdown",
   "metadata": {},
   "source": [
    "**`tf.train.Saver()`**"
   ]
  },
  {
   "cell_type": "markdown",
   "metadata": {},
   "source": [
    "您可以使用tf.train.Saver（）定期存储模型的参数值。将图形变量保存为二进制文件。该类的保存功能结构如下。\n",
    "```python\n",
    "tf.train.Saver.save(\n",
    "    sess,\n",
    "    save_path,\n",
    "    global_step=None,\n",
    "    latest_filename=None,\n",
    "    meta_graph_suffix='meta',\n",
    "    write_meta_graph=True,\n",
    "    write_state=True\n",
    ")\n",
    "```"
   ]
  },
  {
   "cell_type": "markdown",
   "metadata": {},
   "source": [
    "例如，如果我们每隔1000步保存一次计算图的变量："
   ]
  },
  {
   "cell_type": "code",
   "execution_count": null,
   "metadata": {},
   "outputs": [],
   "source": [
    "# 定义模型\n",
    "\n",
    "# create a saver object\n",
    "saver = tf.train.Saver()\n",
    "\n",
    "# launch a session to execute the computation\n",
    "with tf.Session() as sess:\n",
    "    # actual training loop\n",
    "    for step in range(training_steps): \n",
    "    sess.run([optimizer])\n",
    "    if (step + 1) % 1000 == 0:\n",
    "        saver.save(sess, 'checkpoint_directory/model_name', global_step=global_step)"
   ]
  },
  {
   "cell_type": "markdown",
   "metadata": {},
   "source": [
    "在TensorFlow中，你保存计算图变量的那一步叫一个检查点（checkpoint）。因为我们会建立很多个检查点，在我们的模型中添加了一个名为global_step的变量有助于记录训练步骤。\n",
    "你会在很多TensorFlow程序中看到这个变量，我们首先会创建它并初始化为0，然后将它设置成不用被训练（因为我们不希望TensorFlow优化它）。"
   ]
  },
  {
   "cell_type": "code",
   "execution_count": null,
   "metadata": {},
   "outputs": [],
   "source": [
    "global_step = tf.Variable(0, dtype=tf.int32, trainable=False, name='global_step')"
   ]
  },
  {
   "cell_type": "markdown",
   "metadata": {},
   "source": [
    "需要将global_step作为参数传递给optimizer，让它知道在每个训练步骤对global_step进行累加。"
   ]
  },
  {
   "cell_type": "code",
   "execution_count": null,
   "metadata": {},
   "outputs": [],
   "source": [
    "optimizer = tf.train.AdamOptimizer(lr).minimize(loss, global_step=global_step)"
   ]
  },
  {
   "cell_type": "code",
   "execution_count": null,
   "metadata": {},
   "outputs": [],
   "source": [
    "要将变量值保存到checkpoints目录中，我们使用："
   ]
  },
  {
   "cell_type": "code",
   "execution_count": null,
   "metadata": {},
   "outputs": [],
   "source": [
    "saver.save(sess, 'checkpoints/model-name', global_step=global_step)"
   ]
  },
  {
   "cell_type": "code",
   "execution_count": null,
   "metadata": {},
   "outputs": [],
   "source": [
    "要恢复变量，我们用tf.train.Saver.restore(sess, save_path)，例如用第10000步的checkpoint进行恢复："
   ]
  },
  {
   "cell_type": "code",
   "execution_count": null,
   "metadata": {},
   "outputs": [],
   "source": [
    "saver.restore(sess, 'checkpoints/skip-gram-10000')"
   ]
  },
  {
   "cell_type": "markdown",
   "metadata": {},
   "source": [
    "但是当然，我们只能在有checkpoint的时候才能加载变量，当没有时重新训练。TensorFlow允许我们使用`tf.train.get_checkpoint_state(‘directory-name/checkpoint’)`从一个文件夹读取checkpoint。"
   ]
  },
  {
   "cell_type": "code",
   "execution_count": 7,
   "metadata": {},
   "outputs": [],
   "source": [
    "ckpt = tf.train.get_checkpoint_state(os.path.dirname('checkpoints/checkpoint'))\n",
    "if ckpt and ckpt.model_checkpoint_path:\n",
    "     saver.restore(sess, ckpt.model_checkpoint_path)"
   ]
  },
  {
   "cell_type": "markdown",
   "metadata": {},
   "source": [
    "'checkpoint'文件会自动的跟踪时间最近的checkpoint，它的内容像这样：\n",
    "\n",
    "model_checkpoint_path: \"skip-gram-21999\"\n",
    "\n",
    "all_model_checkpoint_paths: \"skip-gram-13999\"\n",
    "\n",
    "all_model_checkpoint_paths: \"skip-gram-15999\"\n",
    "\n",
    "all_model_checkpoint_paths: \"skip-gram-17999\"\n",
    "\n",
    "all_model_checkpoint_paths: \"skip-gram-19999\"\n",
    "\n",
    "all_model_checkpoint_paths: \"skip-gram-21999\""
   ]
  },
  {
   "cell_type": "markdown",
   "metadata": {},
   "source": [
    "所以word2vec的训练循环像这样："
   ]
  },
  {
   "cell_type": "code",
   "execution_count": null,
   "metadata": {
    "scrolled": true
   },
   "outputs": [],
   "source": [
    "initial_step = 0\n",
    "utils.safe_mkdir('checkpoints')\n",
    "with tf.Session() as sess:\n",
    "    sess.run(self.iterator.initializer)\n",
    "    sess.run(tf.global_variables_initializer())\n",
    "    ckpt = tf.train.get_checkpoint_state(os.path.dirname('checkpoints/checkpoint'))\n",
    "\n",
    "    # if that checkpoint exists, restore from checkpoint\n",
    "    if ckpt and ckpt.model_checkpoint_path:\n",
    "        saver.restore(sess, ckpt.model_checkpoint_path)\n",
    "\n",
    "    total_loss = 0.0 # we use this to calculate late average loss in the last SKIP_STEP steps\n",
    "    writer = tf.summary.FileWriter('graphs/word2vec/lr' + str(self.lr), sess.graph)\n",
    "    initial_step = self.global_step.eval()\n",
    "\n",
    "    for index in range(initial_step, initial_step + num_train_steps):\n",
    "        try:\n",
    "            loss_batch, _, summary = sess.run([self.loss, self.optimizer, self.summary_op])\n",
    "            writer.add_summary(summary, global_step=index)\n",
    "            total_loss += loss_batch\n",
    "            if (index + 1) % self.skip_step == 0:\n",
    "                print('Average loss at step {}: {:5.1f}'.format(index, total_loss / self.skip_step))\n",
    "                total_loss = 0.0\n",
    "                saver.save(sess, 'checkpoints/skip-gram', index)\n",
    "        except tf.errors.OutOfRangeError:\n",
    "            sess.run(self.iterator.initializer)\n",
    "    writer.close()"
   ]
  },
  {
   "cell_type": "markdown",
   "metadata": {},
   "source": [
    "查看'checkpoints'目录，你会看到这些文件："
   ]
  },
  {
   "cell_type": "markdown",
   "metadata": {},
   "source": [
    "默认情况下，saver.save()保存计算图的所有变量，这是TensorFlow推荐的。然而你也可以选择保存什么变量，在我们创建saver对象时将它们以list或dict传入。\n",
    "\n",
    "```python\n",
    "v1 = tf.Variable(..., name='v1')\n",
    "v2 = tf.Variable(..., name='v2')\n",
    "\n",
    "saver = tf.train.Saver({'v1': v1, 'v2': v2})\n",
    "\n",
    "saver = tf.train.Saver([v1, v2])\n",
    "\n",
    "saver = tf.train.Saver({v.op.name: v for v in [v1, v2]})\n",
    "```"
   ]
  },
  {
   "cell_type": "markdown",
   "metadata": {},
   "source": [
    "**`tf.summary`**"
   ]
  },
  {
   "cell_type": "markdown",
   "metadata": {},
   "source": [
    "\n",
    "通常我们使用matplotlib来使用TensorFlow可视化我们的损失，准确性等。使用TensorBoard可以轻松地可视化我们的汇总数据。\n",
    "\n",
    "让我们可视化损失，平均损失和准确性，这些通常是可视化值。可视化以标量图，直方图和图像格式提供。\n",
    "\n",
    "首先，我们在使用摘要操作后定义我们将用作名称范围的值。\n",
    "\n",
    "```python\n",
    "def _create_summaries(self):\n",
    "     with tf.name_scope(\"summaries\"):\n",
    "            tf.summary.scalar(\"loss\", self.loss)\n",
    "            tf.summary.scalar(\"accuracy\", self.accuracy)            \n",
    "            tf.summary.histogram(\"histogram loss\", self.loss)\n",
    "            # because you have several summaries, we should merge them all\n",
    "            # into one op to make it easier to manage\n",
    "            self.summary_op = tf.summary.merge_all()\n",
    "```"
   ]
  },
  {
   "cell_type": "markdown",
   "metadata": {},
   "source": [
    "由于summary是一个操作，因此必须作为会话执行。\n",
    "\n",
    "```python\n",
    "loss_batch, _, summary = sess.run([model.loss, model.optimizer, model.summary_op],\n",
    "                                  feed_dict=feed_dict)\n",
    "```\n",
    "\n",
    "现在你已经得到了summary，还需要将summary用FileWriter对象写入文件中来进行可视化。\n",
    "\n",
    "```python\n",
    "writer.add_summary(summary, global_step=step)\n",
    "```"
   ]
  },
  {
   "cell_type": "markdown",
   "metadata": {},
   "source": [
    "#### 完整代码"
   ]
  },
  {
   "cell_type": "code",
   "execution_count": 1,
   "metadata": {},
   "outputs": [
    {
     "name": "stdout",
     "output_type": "stream",
     "text": [
      "INFO:tensorflow:Summary name histogram loss is illegal; using histogram_loss instead.\n",
      "data/text8.zip already exists\n",
      "Average loss at step 4999:  64.1\n",
      "Average loss at step 9999:  17.3\n",
      "Average loss at step 14999:   9.1\n",
      "Average loss at step 19999:   6.3\n",
      "Average loss at step 24999:   5.3\n",
      "Average loss at step 29999:   4.9\n",
      "Average loss at step 34999:   4.8\n",
      "Average loss at step 39999:   4.7\n",
      "Average loss at step 44999:   4.6\n",
      "Average loss at step 49999:   4.6\n",
      "Average loss at step 54999:   4.6\n",
      "Average loss at step 59999:   4.6\n",
      "Average loss at step 64999:   4.6\n",
      "Average loss at step 69999:   4.6\n",
      "Average loss at step 74999:   4.6\n",
      "Average loss at step 79999:   4.6\n",
      "Average loss at step 84999:   4.6\n",
      "Average loss at step 89999:   4.6\n",
      "Average loss at step 94999:   4.6\n",
      "Average loss at step 99999:   4.5\n",
      "INFO:tensorflow:Restoring parameters from checkpoints/skip-gram-99999\n"
     ]
    }
   ],
   "source": [
    "\"\"\" word2vec skip-gram model with NCE loss and \n",
    "code to visualize the embeddings on TensorBoard\n",
    "CS 20: \"TensorFlow for Deep Learning Research\"\n",
    "cs20.stanford.edu\n",
    "Chip Huyen (chiphuyen@cs.stanford.edu)\n",
    "Lecture 04\n",
    "\"\"\"\n",
    "\n",
    "import os\n",
    "os.environ['TF_CPP_MIN_LOG_LEVEL']='2'\n",
    "\n",
    "import numpy as np\n",
    "from tensorflow.contrib.tensorboard.plugins import projector\n",
    "import tensorflow as tf\n",
    "\n",
    "import utils\n",
    "import word2vec_utils\n",
    "\n",
    "# Model hyperparameters\n",
    "VOCAB_SIZE = 50000\n",
    "BATCH_SIZE = 128\n",
    "EMBED_SIZE = 128            # dimension of the word embedding vectors\n",
    "SKIP_WINDOW = 1             # the context window\n",
    "NUM_SAMPLED = 64            # number of negative examples to sample\n",
    "LEARNING_RATE = 0.5\n",
    "NUM_TRAIN_STEPS = 100000\n",
    "VISUAL_FLD = 'visualization'\n",
    "SKIP_STEP = 5000\n",
    "\n",
    "# Parameters for downloading data\n",
    "DOWNLOAD_URL = 'http://mattmahoney.net/dc/text8.zip'\n",
    "EXPECTED_BYTES = 31344016\n",
    "NUM_VISUALIZE = 3000        # number of tokens to visualize\n",
    "\n",
    "class SkipGramModel:\n",
    "    \"\"\" Build the graph for word2vec model \"\"\"\n",
    "    def __init__(self, dataset, vocab_size, embed_size, batch_size, num_sampled, learning_rate):\n",
    "        self.vocab_size = vocab_size\n",
    "        self.embed_size = embed_size\n",
    "        self.batch_size = batch_size\n",
    "        self.num_sampled = num_sampled\n",
    "        self.lr = learning_rate\n",
    "        self.global_step = tf.get_variable('global_step', initializer=tf.constant(0), trainable=False)\n",
    "        self.skip_step = SKIP_STEP\n",
    "        self.dataset = dataset\n",
    "\n",
    "    def _import_data(self):\n",
    "        \"\"\" Step 1: import data\n",
    "        \"\"\"\n",
    "        with tf.name_scope('data'):\n",
    "            self.iterator = self.dataset.make_initializable_iterator()\n",
    "            self.center_words, self.target_words = self.iterator.get_next()\n",
    "\n",
    "    def _create_embedding(self):\n",
    "        \"\"\" Step 2 + 3: define weights and embedding lookup.\n",
    "        In word2vec, it's actually the weights that we care about \n",
    "        \"\"\"\n",
    "        with tf.name_scope('embed'):\n",
    "            self.embed_matrix = tf.get_variable('embed_matrix', \n",
    "                                                shape=[self.vocab_size, self.embed_size],\n",
    "                                                initializer=tf.random_uniform_initializer())\n",
    "            self.embed = tf.nn.embedding_lookup(self.embed_matrix, self.center_words, name='embedding')\n",
    "\n",
    "    def _create_loss(self):\n",
    "        \"\"\" Step 4: define the loss function \"\"\"\n",
    "        with tf.name_scope('loss'):\n",
    "            # construct variables for NCE loss\n",
    "            nce_weight = tf.get_variable('nce_weight', \n",
    "                        shape=[self.vocab_size, self.embed_size],\n",
    "                        initializer=tf.truncated_normal_initializer(stddev=1.0 / (self.embed_size ** 0.5)))\n",
    "            nce_bias = tf.get_variable('nce_bias', initializer=tf.zeros([VOCAB_SIZE]))\n",
    "\n",
    "            # define loss function to be NCE loss function\n",
    "            self.loss = tf.reduce_mean(tf.nn.nce_loss(weights=nce_weight, \n",
    "                                                biases=nce_bias, \n",
    "                                                labels=self.target_words, \n",
    "                                                inputs=self.embed, \n",
    "                                                num_sampled=self.num_sampled, \n",
    "                                                num_classes=self.vocab_size), name='loss')\n",
    "    def _create_optimizer(self):\n",
    "        \"\"\" Step 5: define optimizer \"\"\"\n",
    "        self.optimizer = tf.train.GradientDescentOptimizer(self.lr).minimize(self.loss, \n",
    "                                                              global_step=self.global_step)\n",
    "\n",
    "    def _create_summaries(self):\n",
    "        with tf.name_scope('summaries'):\n",
    "            tf.summary.scalar('loss', self.loss)\n",
    "            tf.summary.histogram('histogram loss', self.loss)\n",
    "            # because you have several summaries, we should merge them all\n",
    "            # into one op to make it easier to manage\n",
    "            self.summary_op = tf.summary.merge_all()\n",
    "\n",
    "    def build_graph(self):\n",
    "        \"\"\" Build the graph for our model \"\"\"\n",
    "        self._import_data()\n",
    "        self._create_embedding()\n",
    "        self._create_loss()\n",
    "        self._create_optimizer()\n",
    "        self._create_summaries()\n",
    "\n",
    "    def train(self, num_train_steps):\n",
    "        saver = tf.train.Saver() # defaults to saving all variables - in this case embed_matrix, nce_weight, nce_bias\n",
    "\n",
    "        initial_step = 0\n",
    "        utils.safe_mkdir('checkpoints')\n",
    "        with tf.Session() as sess:\n",
    "            sess.run(self.iterator.initializer)\n",
    "            sess.run(tf.global_variables_initializer())\n",
    "            ckpt = tf.train.get_checkpoint_state(os.path.dirname('checkpoints/checkpoint'))\n",
    "\n",
    "            # if that checkpoint exists, restore from checkpoint\n",
    "            if ckpt and ckpt.model_checkpoint_path:\n",
    "                saver.restore(sess, ckpt.model_checkpoint_path)\n",
    "\n",
    "            total_loss = 0.0 # we use this to calculate late average loss in the last SKIP_STEP steps\n",
    "            writer = tf.summary.FileWriter('graphs/word2vec/lr' + str(self.lr), sess.graph)\n",
    "            initial_step = self.global_step.eval()\n",
    "\n",
    "            for index in range(initial_step, initial_step + num_train_steps):\n",
    "                try:\n",
    "                    loss_batch, _, summary = sess.run([self.loss, self.optimizer, self.summary_op])\n",
    "                    writer.add_summary(summary, global_step=index)\n",
    "                    total_loss += loss_batch\n",
    "                    if (index + 1) % self.skip_step == 0:\n",
    "                        print('Average loss at step {}: {:5.1f}'.format(index, total_loss / self.skip_step))\n",
    "                        total_loss = 0.0\n",
    "                        saver.save(sess, 'checkpoints/skip-gram', index)\n",
    "                except tf.errors.OutOfRangeError:\n",
    "                    sess.run(self.iterator.initializer)\n",
    "            writer.close()\n",
    "\n",
    "    def visualize(self, visual_fld, num_visualize):\n",
    "        \"\"\" run \"'tensorboard --logdir='visualization'\" to see the embeddings \"\"\"\n",
    "        \n",
    "        # create the list of num_variable most common words to visualize\n",
    "        word2vec_utils.most_common_words(visual_fld, num_visualize)\n",
    "\n",
    "        saver = tf.train.Saver()\n",
    "        with tf.Session() as sess:\n",
    "            sess.run(tf.global_variables_initializer())\n",
    "            ckpt = tf.train.get_checkpoint_state(os.path.dirname('checkpoints/checkpoint'))\n",
    "\n",
    "            # if that checkpoint exists, restore from checkpoint\n",
    "            if ckpt and ckpt.model_checkpoint_path:\n",
    "                saver.restore(sess, ckpt.model_checkpoint_path)\n",
    "\n",
    "            final_embed_matrix = sess.run(self.embed_matrix)\n",
    "            \n",
    "            # you have to store embeddings in a new variable\n",
    "            embedding_var = tf.Variable(final_embed_matrix[:num_visualize], name='embedding')\n",
    "            sess.run(embedding_var.initializer)\n",
    "\n",
    "            config = projector.ProjectorConfig()\n",
    "            summary_writer = tf.summary.FileWriter(visual_fld)\n",
    "\n",
    "            # add embedding to the config file\n",
    "            embedding = config.embeddings.add()\n",
    "            embedding.tensor_name = embedding_var.name\n",
    "            \n",
    "            # link this tensor to its metadata file, in this case the first NUM_VISUALIZE words of vocab\n",
    "            embedding.metadata_path = 'vocab_' + str(num_visualize) + '.tsv'\n",
    "\n",
    "            # saves a configuration file that TensorBoard will read during startup.\n",
    "            projector.visualize_embeddings(summary_writer, config)\n",
    "            saver_embed = tf.train.Saver([embedding_var])\n",
    "            saver_embed.save(sess, os.path.join(visual_fld, 'model.ckpt'), 1)\n",
    "\n",
    "def gen():\n",
    "    yield from word2vec_utils.batch_gen(DOWNLOAD_URL, EXPECTED_BYTES, VOCAB_SIZE, \n",
    "                                        BATCH_SIZE, SKIP_WINDOW, VISUAL_FLD)\n",
    "\n",
    "def main():\n",
    "    dataset = tf.data.Dataset.from_generator(gen, \n",
    "                                (tf.int32, tf.int32), \n",
    "                                (tf.TensorShape([BATCH_SIZE]), tf.TensorShape([BATCH_SIZE, 1])))\n",
    "    model = SkipGramModel(dataset, VOCAB_SIZE, EMBED_SIZE, BATCH_SIZE, NUM_SAMPLED, LEARNING_RATE)\n",
    "    model.build_graph()\n",
    "    model.train(NUM_TRAIN_STEPS)\n",
    "    model.visualize(VISUAL_FLD, NUM_VISUALIZE)\n",
    "\n",
    "if __name__ == '__main__':\n",
    "    main()"
   ]
  },
  {
   "cell_type": "markdown",
   "metadata": {},
   "source": [
    "现在查看TensorBoard，在Scalars页面你可以看到标量摘要图，这是你的loss的摘要图。"
   ]
  },
  {
   "cell_type": "markdown",
   "metadata": {},
   "source": [
    "#### random seed in operation level"
   ]
  },
  {
   "cell_type": "markdown",
   "metadata": {},
   "source": [
    "使用张量流时，有很多时候需要使用随机值。您可以通过多种方式获得随机值。有一种方法可以控制此随机值。种子用于区分两种类型。\n",
    "\n",
    "这是在操作步骤中分配随机种子的方法。我们来看看下面的几个例子，并学习如何使用它们。"
   ]
  },
  {
   "cell_type": "markdown",
   "metadata": {},
   "source": [
    "1.在计算层面设置随机种子。所有的随机tensor允许在初始化时传入随机种子。"
   ]
  },
  {
   "cell_type": "code",
   "execution_count": 4,
   "metadata": {},
   "outputs": [
    {
     "name": "stdout",
     "output_type": "stream",
     "text": [
      "3.574932\n",
      "-5.9731865\n"
     ]
    }
   ],
   "source": [
    "c = tf.random_uniform([], -10, 10, seed=2)\n",
    "\n",
    "with tf.Session() as sess:\n",
    "    print(sess.run(c)) # >> 3.57493\n",
    "    print(sess.run(c)) # >> -5.97319"
   ]
  },
  {
   "cell_type": "markdown",
   "metadata": {},
   "source": [
    "2.使用`tf.Graph.seed`在计算图层面设置随机种子。"
   ]
  },
  {
   "cell_type": "markdown",
   "metadata": {},
   "source": [
    "tf.set_random_seed(seed)"
   ]
  },
  {
   "cell_type": "markdown",
   "metadata": {},
   "source": [
    "#### Autodiff(TensorFlow是怎样计算梯度的)"
   ]
  },
  {
   "cell_type": "markdown",
   "metadata": {},
   "source": [
    "张量流提供自动微分功能，并且有明确使用的功能。使用`tf.gradients（)`，我们可以将我们想要的函数区分为我们设置的变量。该功能的结构如下。"
   ]
  },
  {
   "cell_type": "code",
   "execution_count": null,
   "metadata": {},
   "outputs": [],
   "source": [
    "tf.gradients(ys, xs, grad_ys=None, name='gradients', colocate_gradients_with_ops=False, gate_gradients=False, aggregation_method=None)"
   ]
  },
  {
   "cell_type": "markdown",
   "metadata": {},
   "source": [
    "ys是导数函数，xs是导数。它可以通过几个变量区分或通过链规则区分。考虑下面的例子。"
   ]
  },
  {
   "cell_type": "code",
   "execution_count": 9,
   "metadata": {},
   "outputs": [
    {
     "name": "stdout",
     "output_type": "stream",
     "text": [
      "[24.0]\n"
     ]
    }
   ],
   "source": [
    "x = tf.Variable(2.0)\n",
    "y = 2.0 * (x ** 3)\n",
    "\n",
    "grad_y = tf.gradients(y, x)\n",
    "with tf.Session() as sess:\n",
    "    sess.run(x.initializer)\n",
    "    print(sess.run(grad_y)) # >> 24.0"
   ]
  },
  {
   "cell_type": "code",
   "execution_count": 11,
   "metadata": {},
   "outputs": [
    {
     "name": "stdout",
     "output_type": "stream",
     "text": [
      "[768.0, 32.0]\n"
     ]
    }
   ],
   "source": [
    "x = tf.Variable(2.0)\n",
    "y = 2.0 * (x ** 3)\n",
    "z = 3.0 + y ** 2\n",
    "\n",
    "grad_z = tf.gradients(z, [x, y])\n",
    "with tf.Session() as sess:\n",
    "    sess.run(x.initializer)\n",
    "    print(sess.run(grad_z)) # >> [768.0, 32.0]\n",
    "# 768 is the gradient of z with respect to x, 32 with respect to y"
   ]
  },
  {
   "cell_type": "markdown",
   "metadata": {},
   "source": [
    "所以问题是：为什么我们还要学习如何计算梯度？为什么Chris Manning和Richard Socher还要我们计算cross entropy and softmax的梯度？用手算梯度会不会到某一天就像因为发明计算器而使用手算平方根一样过时吗?\n",
    "\n",
    "也许。但是现在，TensorFlow可以为我们计算梯度，但它不能让我们直观地知道要使用什么函数。它不能告诉我们函数是否将会遭受梯度爆炸或梯度消失。我们仍然需要了解梯度以便理解为什么一个模型可以工作但是另一个不行。"
   ]
  }
 ],
 "metadata": {
  "kernelspec": {
   "display_name": "Python 3",
   "language": "python",
   "name": "python3"
  },
  "language_info": {
   "codemirror_mode": {
    "name": "ipython",
    "version": 3
   },
   "file_extension": ".py",
   "mimetype": "text/x-python",
   "name": "python",
   "nbconvert_exporter": "python",
   "pygments_lexer": "ipython3",
   "version": "3.6.4"
  }
 },
 "nbformat": 4,
 "nbformat_minor": 2
}
